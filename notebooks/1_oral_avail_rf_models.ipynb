{
 "cells": [
  {
   "attachments": {},
   "cell_type": "markdown",
   "metadata": {},
   "source": [
    "# Generating molecular descriptors and fingerprints to predict oral bioavailability\n",
    "\n",
    "1. This notebook focuses on generating molecular descriptors/fingerprints and using them to build a random forest classifier to predict classes of oral bioavailability.\n",
    "2. Molecular descriptors/fingerprints were generated using RDkit and random forest classifer model was built using sci-kit learn. \n",
    "3. Hyperparameters tuning was done using Optuna library in 30 trials."
   ]
  },
  {
   "cell_type": "code",
   "execution_count": 33,
   "metadata": {},
   "outputs": [],
   "source": [
    "import rdkit\n",
    "from rdkit.Chem import Descriptors, MACCSkeys, AllChem\n",
    "from rdkit import Chem\n",
    "import pandas as pd\n",
    "import numpy as np\n",
    "from numpy import mean, std\n",
    "from rdkit.ML.Descriptors import MoleculeDescriptors\n",
    "import optuna\n",
    "from sklearn.model_selection import KFold\n",
    "from sklearn.ensemble import RandomForestClassifier\n",
    "from sklearn.metrics import accuracy_score, log_loss, roc_auc_score, f1_score\n",
    "\n",
    "from config import MINPATH, MAXPATH, FPSIZE_RDKFP, MORGAN_RAD, MORGAN_BITS, N_SPLITS, SEED_NO, best_params_MD, best_params_morgan, best_params_maccskeys, best_params_rdkfp\n",
    "from utils import seed_everything"
   ]
  },
  {
   "attachments": {},
   "cell_type": "markdown",
   "metadata": {},
   "source": [
    "## 1. Process data and store them as csv files"
   ]
  },
  {
   "cell_type": "code",
   "execution_count": 2,
   "metadata": {},
   "outputs": [],
   "source": [
    "def generate_mol_desc(dataset_train_path, dataset_test_path, saved_path_train, saved_path_test):\n",
    "    df = pd.read_csv(dataset_train_path)\n",
    "    df_test = pd.read_csv(dataset_test_path)\n",
    "    smiles_df = df['smile']\n",
    "    smiles_test_df = df_test['smile']\n",
    "    all_descs =[x[0] for x in Descriptors._descList]\n",
    "    calc = MoleculeDescriptors.MolecularDescriptorCalculator(all_descs)\n",
    "\n",
    "    desc_list = []\n",
    "    for smile in smiles_df:\n",
    "        mol = Chem.MolFromSmiles(smile)\n",
    "        desc = calc.CalcDescriptors(mol)\n",
    "        desc_list.append(desc)\n",
    "    df_desc = pd.DataFrame(desc_list, columns=all_descs)\n",
    "\n",
    "    desc_list_test = []\n",
    "    for smile in smiles_test_df:\n",
    "        mol = Chem.MolFromSmiles(smile)\n",
    "        desc = calc.CalcDescriptors(mol)\n",
    "        desc_list_test.append(desc)\n",
    "    df_desc_test = pd.DataFrame(desc_list_test, columns=all_descs)\n",
    "\n",
    "\n",
    "    col_with_all_zeros = []\n",
    "    for i in df_desc.columns:\n",
    "        if (df_desc[i]== 0).all():\n",
    "            col_with_all_zeros.append(i)\n",
    "\n",
    "    df_desc = df_desc.drop(col_with_all_zeros, axis=1)\n",
    "    df_desc_test = df_desc_test.drop(col_with_all_zeros, axis=1)\n",
    "\n",
    "    data = pd.DataFrame(df_desc.var(), columns=['variance']).T\n",
    "\n",
    "    col_list_zero_var = []\n",
    "    for i in data.columns:\n",
    "        if (df_desc[i] == 0.0).any():\n",
    "            col_list_zero_var.append(i)\n",
    "\n",
    "    df_desc = df_desc.drop(col_list_zero_var, axis=1)\n",
    "    df_desc_test = df_desc_test.drop(col_list_zero_var, axis=1)\n",
    "\n",
    "    df_desc['label_cutoff_50%'] = df['label_cutoff_50%']\n",
    "    df_desc['smile'] = df['smile']\n",
    "    df_desc_test['label_cutoff_50%'] = df_test['label_cutoff_50%']\n",
    "    df_desc_test['smile'] = df_test['smile']\n",
    "\n",
    "    df_desc.to_csv(saved_path_train, index=False)\n",
    "    df_desc_test.to_csv(saved_path_test, index=False)\n",
    "    print('Data processed!')\n",
    "\n",
    "def get_maccskeys(mol):\n",
    "    return np.array(MACCSkeys.GenMACCSKeys(mol))\n",
    "\n",
    "def get_rdkfp(mol, minpath, maxpath, fpsize):\n",
    "    rdkfp = Chem.rdmolops.RDKFingerprint(mol, minPath=minpath, maxPath=maxpath, fpSize = fpsize)\n",
    "    return np.array(rdkfp)\n",
    "\n",
    "def get_mfp(mol,rad, bits):\n",
    "    morgan_fp = AllChem.GetMorganFingerprintAsBitVect(mol,radius=rad, nBits=bits)\n",
    "    return np.array(morgan_fp)\n",
    "\n",
    "def get_fp(type, dataset_train_path, dataset_test_path, saved_path_train, saved_path_test):\n",
    "    df = pd.read_csv(dataset_train_path)\n",
    "    df_test = pd.read_csv(dataset_test_path)\n",
    "    smiles_df = df['smile']\n",
    "    smiles_test_df = df_test['smile']\n",
    "\n",
    "    fp_list_train=[]\n",
    "    fp_list_test=[]\n",
    "\n",
    "    for smile in smiles_df:\n",
    "        mol = Chem.MolFromSmiles(smile)\n",
    "        if type ==\"MACCSkeys\":\n",
    "            fp = get_maccskeys(mol)\n",
    "        elif type ==\"RDKFP\":\n",
    "            fp = get_rdkfp(mol, MINPATH, MAXPATH, FPSIZE_RDKFP)\n",
    "        elif type ==\"Morgan\":\n",
    "            fp = get_mfp(mol, MORGAN_RAD, MORGAN_BITS)\n",
    "        fp_list_train.append(fp)\n",
    "    \n",
    "    for smile in smiles_test_df:\n",
    "        mol = Chem.MolFromSmiles(smile)\n",
    "        if type ==\"MACCSkeys\":\n",
    "            fp = get_maccskeys(mol)\n",
    "        elif type ==\"RDKFP\":\n",
    "            fp = get_rdkfp(mol, MINPATH, MAXPATH, FPSIZE_RDKFP)\n",
    "        elif type ==\"Morgan\":\n",
    "            fp = get_mfp(mol, MORGAN_RAD, MORGAN_BITS)\n",
    "        fp_list_test.append(fp)\n",
    "    \n",
    "    train_df = pd.DataFrame(fp_list_train)\n",
    "    train_df['label_cutoff_50%'] = df['label_cutoff_50%']\n",
    "    train_df['smile'] = df['smile']\n",
    "    train_df.to_csv(saved_path_train, index=False)\n",
    "    test_df = pd.DataFrame(fp_list_test)\n",
    "    test_df['label_cutoff_50%'] = df_test['label_cutoff_50%']\n",
    "    test_df['smile'] = df_test['smile']\n",
    "    test_df.to_csv(saved_path_test, index=False)\n",
    "    print(\"Data processed!\")"
   ]
  },
  {
   "cell_type": "code",
   "execution_count": 6,
   "metadata": {},
   "outputs": [
    {
     "name": "stdout",
     "output_type": "stream",
     "text": [
      "Data processed!\n"
     ]
    }
   ],
   "source": [
    "# 1. Get Molecular descriptors, remove columns where all values are 0 and zero variance and save as csv file \n",
    "dataset_train_path = './data/graph_data/data_oral_avail_train/raw/data_oral_avail_train_50.csv'\n",
    "dataset_test_path = './data/graph_data/data_oral_avail_test/raw/data_oral_avail_test_1_50.csv'\n",
    "saved_path_train = './data/oral_avail_mol_desc/data_oral_avail_train_mol_desc.csv'\n",
    "saved_path_test = './data/oral_avail_mol_desc/data_oral_avail_test_mol_desc.csv'\n",
    "generate_mol_desc(dataset_train_path, dataset_test_path, saved_path_train, saved_path_test)"
   ]
  },
  {
   "cell_type": "code",
   "execution_count": 7,
   "metadata": {},
   "outputs": [
    {
     "name": "stdout",
     "output_type": "stream",
     "text": [
      "Data processed!\n"
     ]
    }
   ],
   "source": [
    "# 2. Get Morgan fingerprints\n",
    "\n",
    "type = 'Morgan'\n",
    "dataset_train_path = './data/graph_data/data_oral_avail_train/raw/data_oral_avail_train_50.csv'\n",
    "dataset_test_path = './data/graph_data/data_oral_avail_test/raw/data_oral_avail_test_1_50.csv'\n",
    "saved_path_train = './data/oral_avail_fingerprints/data_oral_avail_train_morgan.csv'\n",
    "saved_path_test = './data/oral_avail_fingerprints/data_oral_avail_test_morgan.csv'\n",
    "get_fp(type, dataset_train_path, dataset_test_path, saved_path_train, saved_path_test)\n"
   ]
  },
  {
   "cell_type": "code",
   "execution_count": 8,
   "metadata": {},
   "outputs": [
    {
     "name": "stdout",
     "output_type": "stream",
     "text": [
      "Data processed!\n"
     ]
    }
   ],
   "source": [
    "# 3. Get rdk fingerprints\n",
    "\n",
    "type = 'RDKFP'\n",
    "dataset_train_path = './data/graph_data/data_oral_avail_train/raw/data_oral_avail_train_50.csv'\n",
    "dataset_test_path = './data/graph_data/data_oral_avail_test/raw/data_oral_avail_test_1_50.csv'\n",
    "saved_path_train = './data/oral_avail_fingerprints/data_oral_avail_train_rdkfp.csv'\n",
    "saved_path_test = './data/oral_avail_fingerprints/data_oral_avail_test_rdkfp.csv'\n",
    "get_fp(type, dataset_train_path, dataset_test_path, saved_path_train, saved_path_test)\n"
   ]
  },
  {
   "cell_type": "code",
   "execution_count": 3,
   "metadata": {},
   "outputs": [
    {
     "name": "stdout",
     "output_type": "stream",
     "text": [
      "Data processed!\n"
     ]
    }
   ],
   "source": [
    "# 4. Get maccskeys\n",
    "\n",
    "type = 'MACCSkeys'\n",
    "dataset_train_path = './data/graph_data/data_oral_avail_train/raw/data_oral_avail_train_50.csv'\n",
    "dataset_test_path = './data/graph_data/data_oral_avail_test/raw/data_oral_avail_test_1_50.csv'\n",
    "saved_path_train = './data/oral_avail_fingerprints/data_oral_avail_train_maccskeys.csv'\n",
    "saved_path_test = './data/oral_avail_fingerprints/data_oral_avail_test_maccskeys.csv'\n",
    "get_fp(type, dataset_train_path, dataset_test_path, saved_path_train, saved_path_test)\n"
   ]
  },
  {
   "attachments": {},
   "cell_type": "markdown",
   "metadata": {},
   "source": [
    "## 2. Tuning of model (Suggest to skip and used the hyperparameters saved in config.py)\n",
    "1. To tune the model, we make use of the Optuna library which allows us to use the Tree-structure Parzen Estimator Algorithm to find the best hyperparameters for us \n",
    "2. First, create a run_tuning function to include the training and validation step with early stopping mechansim \n",
    "3. Then, create an objective function of Optuna to evaluate the best hyperparameters in 30 trials. "
   ]
  },
  {
   "cell_type": "code",
   "execution_count": 30,
   "metadata": {},
   "outputs": [],
   "source": [
    "def run_tuning(data_type, processed_train_path, params):\n",
    "    seed_everything(SEED_NO)\n",
    "    df = pd.read_csv(processed_train_path)\n",
    "    if data_type == \"MD\":\n",
    "        x_train = df.iloc[:, :45]\n",
    "        y_train = df['label_cutoff_50%']\n",
    "    if data_type == \"MACCSkeys\":\n",
    "        x_train = df.iloc[:, :167]\n",
    "        y_train = df['label_cutoff_50%']\n",
    "    if data_type == \"Morgan\":\n",
    "        x_train = df.iloc[:, :1024]\n",
    "        y_train = df['label_cutoff_50%']\n",
    "    if data_type == \"rdkfp\":\n",
    "        x_train = df.iloc[:, :1024]\n",
    "        y_train = df['label_cutoff_50%']\n",
    "\n",
    "    kf = KFold(n_splits=5)\n",
    "\n",
    "    rf_model = RandomForestClassifier(n_estimators=params['n_estimators'], max_depth=params['max_depth'])\n",
    "    logloss_total = 0\n",
    "\n",
    "    for fold_no, (train_idx, valid_idx) in enumerate(kf.split(x_train)):\n",
    "        rf_model.fit(x_train.iloc[train_idx, :], y_train.iloc[train_idx].to_numpy().reshape(-1))\n",
    "        y_pred = rf_model.predict(x_train.iloc[valid_idx, :])\n",
    "        probs = rf_model.predict_proba(x_train.iloc[valid_idx, :])\n",
    "\n",
    "        logloss = log_loss(y_train.iloc[valid_idx], probs)\n",
    "        logloss_total += logloss\n",
    "        print(f'Fold: {fold_no}, logloss: {logloss}')\n",
    "    \n",
    "    return logloss_total/5"
   ]
  },
  {
   "cell_type": "code",
   "execution_count": 31,
   "metadata": {},
   "outputs": [
    {
     "name": "stderr",
     "output_type": "stream",
     "text": [
      "\u001b[32m[I 2023-03-30 22:18:48,909]\u001b[0m A new study created in memory with name: no-name-fcd5f805-6abc-4d48-8c7b-7151d29934a9\u001b[0m\n"
     ]
    },
    {
     "name": "stdout",
     "output_type": "stream",
     "text": [
      "Fold: 0, logloss: 0.5641162776598053\n",
      "Fold: 1, logloss: 0.590122725650923\n",
      "Fold: 2, logloss: 0.6853439128203132\n",
      "Fold: 3, logloss: 0.6733378917487506\n"
     ]
    },
    {
     "name": "stderr",
     "output_type": "stream",
     "text": [
      "\u001b[32m[I 2023-03-30 22:18:50,015]\u001b[0m Trial 0 finished with value: 0.6334135586186024 and parameters: {'n_estimators': 57, 'max_depth': 92}. Best is trial 0 with value: 0.6334135586186024.\u001b[0m\n"
     ]
    },
    {
     "name": "stdout",
     "output_type": "stream",
     "text": [
      "Fold: 4, logloss: 0.6541469852132198\n",
      "Fold: 0, logloss: 0.5836731014212858\n",
      "Fold: 1, logloss: 0.6308441055034912\n",
      "Fold: 2, logloss: 0.6817913712281339\n"
     ]
    },
    {
     "name": "stderr",
     "output_type": "stream",
     "text": [
      "\u001b[32m[I 2023-03-30 22:18:50,867]\u001b[0m Trial 1 finished with value: 0.6460592791458533 and parameters: {'n_estimators': 44, 'max_depth': 14}. Best is trial 0 with value: 0.6334135586186024.\u001b[0m\n"
     ]
    },
    {
     "name": "stdout",
     "output_type": "stream",
     "text": [
      "Fold: 3, logloss: 0.6699663767089349\n",
      "Fold: 4, logloss: 0.6640214408674201\n",
      "Fold: 0, logloss: 0.5629595363828155\n",
      "Fold: 1, logloss: 0.5930067252331345\n",
      "Fold: 2, logloss: 0.6824300735996519\n",
      "Fold: 3, logloss: 0.6758196660300273\n"
     ]
    },
    {
     "name": "stderr",
     "output_type": "stream",
     "text": [
      "\u001b[32m[I 2023-03-30 22:18:52,362]\u001b[0m Trial 2 finished with value: 0.6331825550307445 and parameters: {'n_estimators': 76, 'max_depth': 96}. Best is trial 2 with value: 0.6331825550307445.\u001b[0m\n"
     ]
    },
    {
     "name": "stdout",
     "output_type": "stream",
     "text": [
      "Fold: 4, logloss: 0.6516967739080936\n",
      "Fold: 0, logloss: 0.5737886182509445\n",
      "Fold: 1, logloss: 0.6167666994027707\n",
      "Fold: 2, logloss: 0.6880711117552197\n"
     ]
    },
    {
     "name": "stderr",
     "output_type": "stream",
     "text": [
      "\u001b[32m[I 2023-03-30 22:18:52,966]\u001b[0m Trial 3 finished with value: 0.6401629154075674 and parameters: {'n_estimators': 29, 'max_depth': 44}. Best is trial 2 with value: 0.6331825550307445.\u001b[0m\n"
     ]
    },
    {
     "name": "stdout",
     "output_type": "stream",
     "text": [
      "Fold: 3, logloss: 0.6627691074831705\n",
      "Fold: 4, logloss: 0.6594190401457317\n",
      "Fold: 0, logloss: 0.617803456984701\n",
      "Fold: 1, logloss: 0.8103743997931949\n",
      "Fold: 2, logloss: 0.7233661965720318\n"
     ]
    },
    {
     "name": "stderr",
     "output_type": "stream",
     "text": [
      "\u001b[32m[I 2023-03-30 22:18:53,319]\u001b[0m Trial 4 finished with value: 0.7141844624452051 and parameters: {'n_estimators': 16, 'max_depth': 64}. Best is trial 2 with value: 0.6331825550307445.\u001b[0m\n"
     ]
    },
    {
     "name": "stdout",
     "output_type": "stream",
     "text": [
      "Fold: 3, logloss: 0.7249027354517152\n",
      "Fold: 4, logloss: 0.6944755234243821\n",
      "Fold: 0, logloss: 0.56191767365356\n",
      "Fold: 1, logloss: 0.6384399558345211\n",
      "Fold: 2, logloss: 0.7011788630684773\n"
     ]
    },
    {
     "name": "stderr",
     "output_type": "stream",
     "text": [
      "\u001b[32m[I 2023-03-30 22:18:54,003]\u001b[0m Trial 5 finished with value: 0.6499222718292142 and parameters: {'n_estimators': 35, 'max_depth': 77}. Best is trial 2 with value: 0.6331825550307445.\u001b[0m\n"
     ]
    },
    {
     "name": "stdout",
     "output_type": "stream",
     "text": [
      "Fold: 3, logloss: 0.6874079479149634\n",
      "Fold: 4, logloss: 0.6606669186745499\n",
      "Fold: 0, logloss: 0.57807466310398\n",
      "Fold: 1, logloss: 0.6093804525642846\n",
      "Fold: 2, logloss: 0.6814601181600387\n",
      "Fold: 3, logloss: 0.6615967434958449\n"
     ]
    },
    {
     "name": "stderr",
     "output_type": "stream",
     "text": [
      "\u001b[32m[I 2023-03-30 22:18:55,849]\u001b[0m Trial 6 finished with value: 0.6366386571616633 and parameters: {'n_estimators': 95, 'max_depth': 64}. Best is trial 2 with value: 0.6331825550307445.\u001b[0m\n"
     ]
    },
    {
     "name": "stdout",
     "output_type": "stream",
     "text": [
      "Fold: 4, logloss: 0.6526813084841685\n",
      "Fold: 0, logloss: 0.5658366704850614\n",
      "Fold: 1, logloss: 0.6336365053982809\n",
      "Fold: 2, logloss: 0.6908137161307539\n"
     ]
    },
    {
     "name": "stderr",
     "output_type": "stream",
     "text": [
      "\u001b[32m[I 2023-03-30 22:18:56,541]\u001b[0m Trial 7 finished with value: 0.6564176928125036 and parameters: {'n_estimators': 36, 'max_depth': 12}. Best is trial 2 with value: 0.6331825550307445.\u001b[0m\n"
     ]
    },
    {
     "name": "stdout",
     "output_type": "stream",
     "text": [
      "Fold: 3, logloss: 0.6980463446356584\n",
      "Fold: 4, logloss: 0.6937552274127635\n",
      "Fold: 0, logloss: 0.5659477518929331\n",
      "Fold: 1, logloss: 0.623446173131905\n",
      "Fold: 2, logloss: 0.6684726148715139\n",
      "Fold: 3, logloss: 0.6662483851291363\n"
     ]
    },
    {
     "name": "stderr",
     "output_type": "stream",
     "text": [
      "\u001b[32m[I 2023-03-30 22:18:57,962]\u001b[0m Trial 8 finished with value: 0.6374525480507193 and parameters: {'n_estimators': 74, 'max_depth': 93}. Best is trial 2 with value: 0.6331825550307445.\u001b[0m\n"
     ]
    },
    {
     "name": "stdout",
     "output_type": "stream",
     "text": [
      "Fold: 4, logloss: 0.6631478152281081\n",
      "Fold: 0, logloss: 0.5631020335517669\n",
      "Fold: 1, logloss: 0.6313170884041756\n",
      "Fold: 2, logloss: 0.6858314544500775\n",
      "Fold: 3, logloss: 0.6780667122040702\n"
     ]
    },
    {
     "name": "stderr",
     "output_type": "stream",
     "text": [
      "\u001b[32m[I 2023-03-30 22:18:59,310]\u001b[0m Trial 9 finished with value: 0.644712491035458 and parameters: {'n_estimators': 69, 'max_depth': 27}. Best is trial 2 with value: 0.6331825550307445.\u001b[0m\n"
     ]
    },
    {
     "name": "stdout",
     "output_type": "stream",
     "text": [
      "Fold: 4, logloss: 0.6652451665671997\n",
      "Fold: 0, logloss: 0.5559549391326225\n",
      "Fold: 1, logloss: 0.6110345404315246\n",
      "Fold: 2, logloss: 0.6802932194317641\n",
      "Fold: 3, logloss: 0.6678145981184916\n"
     ]
    },
    {
     "name": "stderr",
     "output_type": "stream",
     "text": [
      "\u001b[32m[I 2023-03-30 22:19:01,171]\u001b[0m Trial 10 finished with value: 0.6343894326237812 and parameters: {'n_estimators': 98, 'max_depth': 99}. Best is trial 2 with value: 0.6331825550307445.\u001b[0m\n"
     ]
    },
    {
     "name": "stdout",
     "output_type": "stream",
     "text": [
      "Fold: 4, logloss: 0.6568498660045036\n",
      "Fold: 0, logloss: 0.5624772006626444\n",
      "Fold: 1, logloss: 0.6232681536206074\n",
      "Fold: 2, logloss: 0.6762419776397521\n",
      "Fold: 3, logloss: 0.6901282522167257\n"
     ]
    },
    {
     "name": "stderr",
     "output_type": "stream",
     "text": [
      "\u001b[32m[I 2023-03-30 22:19:02,415]\u001b[0m Trial 11 finished with value: 0.6434692934104961 and parameters: {'n_estimators': 63, 'max_depth': 84}. Best is trial 2 with value: 0.6331825550307445.\u001b[0m\n"
     ]
    },
    {
     "name": "stdout",
     "output_type": "stream",
     "text": [
      "Fold: 4, logloss: 0.6652308829127507\n",
      "Fold: 0, logloss: 0.5627804196414288\n",
      "Fold: 1, logloss: 0.6099564261357364\n",
      "Fold: 2, logloss: 0.6768819066555113\n",
      "Fold: 3, logloss: 0.6758924079648043\n"
     ]
    },
    {
     "name": "stderr",
     "output_type": "stream",
     "text": [
      "\u001b[32m[I 2023-03-30 22:19:04,019]\u001b[0m Trial 12 finished with value: 0.6370174372730064 and parameters: {'n_estimators': 84, 'max_depth': 80}. Best is trial 2 with value: 0.6331825550307445.\u001b[0m\n"
     ]
    },
    {
     "name": "stdout",
     "output_type": "stream",
     "text": [
      "Fold: 4, logloss: 0.6595760259675512\n",
      "Fold: 0, logloss: 0.5578500841350389\n",
      "Fold: 1, logloss: 0.6090420701102003\n",
      "Fold: 2, logloss: 0.6736945396677986\n",
      "Fold: 3, logloss: 0.666545516383297\n"
     ]
    },
    {
     "name": "stderr",
     "output_type": "stream",
     "text": [
      "\u001b[32m[I 2023-03-30 22:19:05,049]\u001b[0m Trial 13 finished with value: 0.63396501740989 and parameters: {'n_estimators': 52, 'max_depth': 100}. Best is trial 2 with value: 0.6331825550307445.\u001b[0m\n"
     ]
    },
    {
     "name": "stdout",
     "output_type": "stream",
     "text": [
      "Fold: 4, logloss: 0.6626928767531153\n",
      "Fold: 0, logloss: 0.5555786658900514\n",
      "Fold: 1, logloss: 0.6190497782714364\n",
      "Fold: 2, logloss: 0.6715500590727511\n",
      "Fold: 3, logloss: 0.6803688864657331\n"
     ]
    },
    {
     "name": "stderr",
     "output_type": "stream",
     "text": [
      "\u001b[32m[I 2023-03-30 22:19:06,609]\u001b[0m Trial 14 finished with value: 0.6381967845928961 and parameters: {'n_estimators': 82, 'max_depth': 44}. Best is trial 2 with value: 0.6331825550307445.\u001b[0m\n"
     ]
    },
    {
     "name": "stdout",
     "output_type": "stream",
     "text": [
      "Fold: 4, logloss: 0.6644365332645089\n",
      "Fold: 0, logloss: 0.5549929017099353\n",
      "Fold: 1, logloss: 0.6097652693356547\n",
      "Fold: 2, logloss: 0.6748371486002478\n",
      "Fold: 3, logloss: 0.6766168573320773\n"
     ]
    },
    {
     "name": "stderr",
     "output_type": "stream",
     "text": [
      "\u001b[32m[I 2023-03-30 22:19:07,689]\u001b[0m Trial 15 finished with value: 0.639640753664465 and parameters: {'n_estimators': 55, 'max_depth': 89}. Best is trial 2 with value: 0.6331825550307445.\u001b[0m\n"
     ]
    },
    {
     "name": "stdout",
     "output_type": "stream",
     "text": [
      "Fold: 4, logloss: 0.6819915913444101\n",
      "Fold: 0, logloss: 0.5594374854819824\n",
      "Fold: 1, logloss: 0.6201198286622677\n",
      "Fold: 2, logloss: 0.6758526114748568\n",
      "Fold: 3, logloss: 0.6723191990245193\n"
     ]
    },
    {
     "name": "stderr",
     "output_type": "stream",
     "text": [
      "\u001b[32m[I 2023-03-30 22:19:09,290]\u001b[0m Trial 16 finished with value: 0.6343317964457529 and parameters: {'n_estimators': 84, 'max_depth': 67}. Best is trial 2 with value: 0.6331825550307445.\u001b[0m\n"
     ]
    },
    {
     "name": "stdout",
     "output_type": "stream",
     "text": [
      "Fold: 4, logloss: 0.643929857585138\n",
      "Fold: 0, logloss: 0.5621644068814362\n",
      "Fold: 1, logloss: 0.6295996644672368\n",
      "Fold: 2, logloss: 0.6868031010522193\n",
      "Fold: 3, logloss: 0.6855739240723626\n"
     ]
    },
    {
     "name": "stderr",
     "output_type": "stream",
     "text": [
      "\u001b[32m[I 2023-03-30 22:19:10,991]\u001b[0m Trial 17 finished with value: 0.6423021679444926 and parameters: {'n_estimators': 64, 'max_depth': 73}. Best is trial 2 with value: 0.6331825550307445.\u001b[0m\n"
     ]
    },
    {
     "name": "stdout",
     "output_type": "stream",
     "text": [
      "Fold: 4, logloss: 0.647369743249208\n",
      "Fold: 0, logloss: 0.5642409660600948\n",
      "Fold: 1, logloss: 0.6334058586421547\n",
      "Fold: 2, logloss: 0.6883865436038805\n",
      "Fold: 3, logloss: 0.6568577554967858\n"
     ]
    },
    {
     "name": "stderr",
     "output_type": "stream",
     "text": [
      "\u001b[32m[I 2023-03-30 22:19:12,564]\u001b[0m Trial 18 finished with value: 0.6403798380581318 and parameters: {'n_estimators': 49, 'max_depth': 51}. Best is trial 2 with value: 0.6331825550307445.\u001b[0m\n"
     ]
    },
    {
     "name": "stdout",
     "output_type": "stream",
     "text": [
      "Fold: 4, logloss: 0.6590080664877435\n",
      "Fold: 0, logloss: 0.5743646691870182\n",
      "Fold: 1, logloss: 0.6193678763879498\n",
      "Fold: 2, logloss: 0.6778334481139966\n",
      "Fold: 3, logloss: 0.659949443024227\n"
     ]
    },
    {
     "name": "stderr",
     "output_type": "stream",
     "text": [
      "\u001b[32m[I 2023-03-30 22:19:14,962]\u001b[0m Trial 19 finished with value: 0.6394999377527156 and parameters: {'n_estimators': 74, 'max_depth': 87}. Best is trial 2 with value: 0.6331825550307445.\u001b[0m\n"
     ]
    },
    {
     "name": "stdout",
     "output_type": "stream",
     "text": [
      "Fold: 4, logloss: 0.6659842520503869\n",
      "Fold: 0, logloss: 0.7644710805593375\n",
      "Fold: 1, logloss: 0.6550613773922741\n"
     ]
    },
    {
     "name": "stderr",
     "output_type": "stream",
     "text": [
      "\u001b[32m[I 2023-03-30 22:19:15,323]\u001b[0m Trial 20 finished with value: 0.8664224140883313 and parameters: {'n_estimators': 10, 'max_depth': 57}. Best is trial 2 with value: 0.6331825550307445.\u001b[0m\n"
     ]
    },
    {
     "name": "stdout",
     "output_type": "stream",
     "text": [
      "Fold: 2, logloss: 1.0431660479344562\n",
      "Fold: 3, logloss: 0.8784708583396693\n",
      "Fold: 4, logloss: 0.9909427062159193\n",
      "Fold: 0, logloss: 0.5768853790312644\n",
      "Fold: 1, logloss: 0.6256060529947551\n",
      "Fold: 2, logloss: 0.6679357338180647\n",
      "Fold: 3, logloss: 0.6838636426599559\n"
     ]
    },
    {
     "name": "stderr",
     "output_type": "stream",
     "text": [
      "\u001b[32m[I 2023-03-30 22:19:16,593]\u001b[0m Trial 21 finished with value: 0.6495785849864518 and parameters: {'n_estimators': 57, 'max_depth': 97}. Best is trial 2 with value: 0.6331825550307445.\u001b[0m\n"
     ]
    },
    {
     "name": "stdout",
     "output_type": "stream",
     "text": [
      "Fold: 4, logloss: 0.6936021164282191\n",
      "Fold: 0, logloss: 0.593820341724171\n",
      "Fold: 1, logloss: 0.6184998320390087\n",
      "Fold: 2, logloss: 0.6780804972059284\n"
     ]
    },
    {
     "name": "stderr",
     "output_type": "stream",
     "text": [
      "\u001b[32m[I 2023-03-30 22:19:17,504]\u001b[0m Trial 22 finished with value: 0.6518517045767104 and parameters: {'n_estimators': 47, 'max_depth': 100}. Best is trial 2 with value: 0.6331825550307445.\u001b[0m\n"
     ]
    },
    {
     "name": "stdout",
     "output_type": "stream",
     "text": [
      "Fold: 3, logloss: 0.6840211216115792\n",
      "Fold: 4, logloss: 0.6848367303028646\n",
      "Fold: 0, logloss: 0.5711286291047835\n",
      "Fold: 1, logloss: 0.6307126301851322\n",
      "Fold: 2, logloss: 0.6779413841628186\n",
      "Fold: 3, logloss: 0.6750956905738617\n"
     ]
    },
    {
     "name": "stderr",
     "output_type": "stream",
     "text": [
      "\u001b[32m[I 2023-03-30 22:19:18,568]\u001b[0m Trial 23 finished with value: 0.6453675343228643 and parameters: {'n_estimators': 56, 'max_depth': 91}. Best is trial 2 with value: 0.6331825550307445.\u001b[0m\n"
     ]
    },
    {
     "name": "stdout",
     "output_type": "stream",
     "text": [
      "Fold: 4, logloss: 0.6719593375877255\n",
      "Fold: 0, logloss: 0.5622471396311949\n",
      "Fold: 1, logloss: 0.6435675120953024\n",
      "Fold: 2, logloss: 0.6585060159741667\n",
      "Fold: 3, logloss: 0.6804049743101244\n"
     ]
    },
    {
     "name": "stderr",
     "output_type": "stream",
     "text": [
      "\u001b[32m[I 2023-03-30 22:19:19,977]\u001b[0m Trial 24 finished with value: 0.6412149407703498 and parameters: {'n_estimators': 74, 'max_depth': 84}. Best is trial 2 with value: 0.6331825550307445.\u001b[0m\n"
     ]
    },
    {
     "name": "stdout",
     "output_type": "stream",
     "text": [
      "Fold: 4, logloss: 0.6613490618409608\n",
      "Fold: 0, logloss: 0.5662250327860904\n",
      "Fold: 1, logloss: 0.6214269761538641\n",
      "Fold: 2, logloss: 0.6708485222718094\n"
     ]
    },
    {
     "name": "stderr",
     "output_type": "stream",
     "text": [
      "\u001b[32m[I 2023-03-30 22:19:20,762]\u001b[0m Trial 25 finished with value: 0.6402098431260674 and parameters: {'n_estimators': 41, 'max_depth': 73}. Best is trial 2 with value: 0.6331825550307445.\u001b[0m\n"
     ]
    },
    {
     "name": "stdout",
     "output_type": "stream",
     "text": [
      "Fold: 3, logloss: 0.6737248446078995\n",
      "Fold: 4, logloss: 0.668823839810674\n",
      "Fold: 0, logloss: 0.6000989343958435\n",
      "Fold: 1, logloss: 0.6442293732859848\n",
      "Fold: 2, logloss: 0.6679977656583183\n"
     ]
    },
    {
     "name": "stderr",
     "output_type": "stream",
     "text": [
      "\u001b[32m[I 2023-03-30 22:19:21,273]\u001b[0m Trial 26 finished with value: 0.6577558040901843 and parameters: {'n_estimators': 26, 'max_depth': 93}. Best is trial 2 with value: 0.6331825550307445.\u001b[0m\n"
     ]
    },
    {
     "name": "stdout",
     "output_type": "stream",
     "text": [
      "Fold: 3, logloss: 0.6986871196989035\n",
      "Fold: 4, logloss: 0.6777658274118716\n",
      "Fold: 0, logloss: 0.5691689226473294\n",
      "Fold: 1, logloss: 0.6197157827183442\n",
      "Fold: 2, logloss: 0.6871684211688519\n",
      "Fold: 3, logloss: 0.6838280255046905\n"
     ]
    },
    {
     "name": "stderr",
     "output_type": "stream",
     "text": [
      "\u001b[32m[I 2023-03-30 22:19:23,009]\u001b[0m Trial 27 finished with value: 0.6447899451170263 and parameters: {'n_estimators': 91, 'max_depth': 100}. Best is trial 2 with value: 0.6331825550307445.\u001b[0m\n"
     ]
    },
    {
     "name": "stdout",
     "output_type": "stream",
     "text": [
      "Fold: 4, logloss: 0.6640685735459151\n",
      "Fold: 0, logloss: 0.5652616637228591\n",
      "Fold: 1, logloss: 0.6237008885226218\n",
      "Fold: 2, logloss: 0.6779326440151046\n",
      "Fold: 3, logloss: 0.6776538092025096\n"
     ]
    },
    {
     "name": "stderr",
     "output_type": "stream",
     "text": [
      "\u001b[32m[I 2023-03-30 22:19:24,240]\u001b[0m Trial 28 finished with value: 0.6416023242885158 and parameters: {'n_estimators': 64, 'max_depth': 81}. Best is trial 2 with value: 0.6331825550307445.\u001b[0m\n"
     ]
    },
    {
     "name": "stdout",
     "output_type": "stream",
     "text": [
      "Fold: 4, logloss: 0.6634626159794837\n",
      "Fold: 0, logloss: 0.5878153835110843\n",
      "Fold: 1, logloss: 0.6293873649480071\n",
      "Fold: 2, logloss: 0.7134797207552535\n",
      "Fold: 3, logloss: 0.6734874396832967\n"
     ]
    },
    {
     "name": "stderr",
     "output_type": "stream",
     "text": [
      "\u001b[32m[I 2023-03-30 22:19:25,260]\u001b[0m Trial 29 finished with value: 0.6523777688340022 and parameters: {'n_estimators': 53, 'max_depth': 24}. Best is trial 2 with value: 0.6331825550307445.\u001b[0m\n"
     ]
    },
    {
     "name": "stdout",
     "output_type": "stream",
     "text": [
      "Fold: 4, logloss: 0.6577189352723694\n",
      "best trial:\n",
      "[0.6331825550307445]\n",
      "Best parameters: {'n_estimators': 76, 'max_depth': 96}\n"
     ]
    }
   ],
   "source": [
    "# For mol desc\n",
    "\n",
    "data_type = 'MD'\n",
    "processed_train_path = './data/oral_avail_mol_desc/data_oral_avail_train_mol_desc.csv'\n",
    "\n",
    "def objective(trial):\n",
    "    params = {\n",
    "        'n_estimators': trial.suggest_int('n_estimators', 10, 100),\n",
    "        'max_depth': trial.suggest_int('max_depth', 10, 100)\n",
    "    }\n",
    "\n",
    "    loss = run_tuning(data_type, processed_train_path, params)\n",
    "    return loss\n",
    "study = optuna.create_study(direction='minimize')\n",
    "study.optimize(objective, n_trials=30)\n",
    "print(f'best trial:')\n",
    "trial_ = study.best_trial\n",
    "print(trial_.values)\n",
    "print(f'Best parameters: {trial_.params}')"
   ]
  },
  {
   "cell_type": "code",
   "execution_count": 21,
   "metadata": {},
   "outputs": [
    {
     "name": "stderr",
     "output_type": "stream",
     "text": [
      "\u001b[32m[I 2023-03-30 22:10:04,802]\u001b[0m A new study created in memory with name: no-name-3a1e6f95-359b-41dd-a970-b4aa2f25ce64\u001b[0m\n"
     ]
    },
    {
     "name": "stdout",
     "output_type": "stream",
     "text": [
      "Fold: 0, logloss: 0.6037030741479498\n",
      "Fold: 1, logloss: 0.6760532480779402\n",
      "Fold: 2, logloss: 0.6843469733881837\n",
      "Fold: 3, logloss: 0.679947487601778\n"
     ]
    },
    {
     "name": "stderr",
     "output_type": "stream",
     "text": [
      "\u001b[32m[I 2023-03-30 22:10:05,392]\u001b[0m Trial 0 finished with value: 0.6627167233682746 and parameters: {'n_estimators': 44, 'max_depth': 26}. Best is trial 0 with value: 0.6627167233682746.\u001b[0m\n"
     ]
    },
    {
     "name": "stdout",
     "output_type": "stream",
     "text": [
      "Fold: 4, logloss: 0.6695328336255214\n",
      "Fold: 0, logloss: 0.6095791188935008\n",
      "Fold: 1, logloss: 0.6803859753252263\n",
      "Fold: 2, logloss: 0.6783940435609934\n",
      "Fold: 3, logloss: 0.6992144496911429\n"
     ]
    },
    {
     "name": "stderr",
     "output_type": "stream",
     "text": [
      "\u001b[32m[I 2023-03-30 22:10:05,939]\u001b[0m Trial 1 finished with value: 0.6674195788071865 and parameters: {'n_estimators': 41, 'max_depth': 22}. Best is trial 0 with value: 0.6627167233682746.\u001b[0m\n"
     ]
    },
    {
     "name": "stdout",
     "output_type": "stream",
     "text": [
      "Fold: 4, logloss: 0.6695243065650688\n",
      "Fold: 0, logloss: 0.6469149547903813\n",
      "Fold: 1, logloss: 0.6774487817243858\n",
      "Fold: 2, logloss: 0.7093837823472515\n",
      "Fold: 3, logloss: 0.7262174004982005\n"
     ]
    },
    {
     "name": "stderr",
     "output_type": "stream",
     "text": [
      "\u001b[32m[I 2023-03-30 22:10:06,147]\u001b[0m Trial 2 finished with value: 0.6887913112337384 and parameters: {'n_estimators': 10, 'max_depth': 15}. Best is trial 0 with value: 0.6627167233682746.\u001b[0m\n"
     ]
    },
    {
     "name": "stdout",
     "output_type": "stream",
     "text": [
      "Fold: 4, logloss: 0.683991636808473\n",
      "Fold: 0, logloss: 0.6022842368643284\n",
      "Fold: 1, logloss: 0.6703234243671157\n",
      "Fold: 2, logloss: 0.6668221816248238\n"
     ]
    },
    {
     "name": "stderr",
     "output_type": "stream",
     "text": [
      "\u001b[32m[I 2023-03-30 22:10:06,959]\u001b[0m Trial 3 finished with value: 0.6573854778403259 and parameters: {'n_estimators': 58, 'max_depth': 48}. Best is trial 3 with value: 0.6573854778403259.\u001b[0m\n"
     ]
    },
    {
     "name": "stdout",
     "output_type": "stream",
     "text": [
      "Fold: 3, logloss: 0.6779476427098079\n",
      "Fold: 4, logloss: 0.6695499036355536\n",
      "Fold: 0, logloss: 0.6070597094349208\n",
      "Fold: 1, logloss: 0.6686267090286502\n",
      "Fold: 2, logloss: 0.6917375388047263\n",
      "Fold: 3, logloss: 0.6865935565411492\n"
     ]
    },
    {
     "name": "stderr",
     "output_type": "stream",
     "text": [
      "\u001b[32m[I 2023-03-30 22:10:07,668]\u001b[0m Trial 4 finished with value: 0.6658328769978896 and parameters: {'n_estimators': 50, 'max_depth': 45}. Best is trial 3 with value: 0.6573854778403259.\u001b[0m\n"
     ]
    },
    {
     "name": "stdout",
     "output_type": "stream",
     "text": [
      "Fold: 4, logloss: 0.6751468711800022\n",
      "Fold: 0, logloss: 0.6255588058398437\n",
      "Fold: 1, logloss: 0.6641271278954178\n",
      "Fold: 2, logloss: 0.6665197266391583\n",
      "Fold: 3, logloss: 0.697373660377672\n"
     ]
    },
    {
     "name": "stderr",
     "output_type": "stream",
     "text": [
      "\u001b[32m[I 2023-03-30 22:10:08,574]\u001b[0m Trial 5 finished with value: 0.6673927669049692 and parameters: {'n_estimators': 100, 'max_depth': 14}. Best is trial 3 with value: 0.6573854778403259.\u001b[0m\n"
     ]
    },
    {
     "name": "stdout",
     "output_type": "stream",
     "text": [
      "Fold: 4, logloss: 0.6833845137727543\n",
      "Fold: 0, logloss: 0.5954323148494829\n",
      "Fold: 1, logloss: 0.6650667265177653\n",
      "Fold: 2, logloss: 0.6694409182157188\n",
      "Fold: 3, logloss: 0.6717175549691614\n"
     ]
    },
    {
     "name": "stderr",
     "output_type": "stream",
     "text": [
      "\u001b[32m[I 2023-03-30 22:10:09,772]\u001b[0m Trial 6 finished with value: 0.6507588650102981 and parameters: {'n_estimators': 87, 'max_depth': 68}. Best is trial 6 with value: 0.6507588650102981.\u001b[0m\n"
     ]
    },
    {
     "name": "stdout",
     "output_type": "stream",
     "text": [
      "Fold: 4, logloss: 0.6521368104993622\n",
      "Fold: 0, logloss: 0.5944417664438305\n",
      "Fold: 1, logloss: 0.6622600154947954\n",
      "Fold: 2, logloss: 0.6682976429771558\n"
     ]
    },
    {
     "name": "stderr",
     "output_type": "stream",
     "text": [
      "\u001b[32m[I 2023-03-30 22:10:10,860]\u001b[0m Trial 7 finished with value: 0.6538718760420661 and parameters: {'n_estimators': 77, 'max_depth': 67}. Best is trial 6 with value: 0.6507588650102981.\u001b[0m\n"
     ]
    },
    {
     "name": "stdout",
     "output_type": "stream",
     "text": [
      "Fold: 3, logloss: 0.6796826135869688\n",
      "Fold: 4, logloss: 0.6646773417075795\n",
      "Fold: 0, logloss: 0.6024173031424296\n",
      "Fold: 1, logloss: 0.642963420044258\n",
      "Fold: 2, logloss: 0.668348677542467\n",
      "Fold: 3, logloss: 0.6708995492292893\n"
     ]
    },
    {
     "name": "stderr",
     "output_type": "stream",
     "text": [
      "\u001b[32m[I 2023-03-30 22:10:11,909]\u001b[0m Trial 8 finished with value: 0.6509253469099999 and parameters: {'n_estimators': 74, 'max_depth': 82}. Best is trial 6 with value: 0.6507588650102981.\u001b[0m\n"
     ]
    },
    {
     "name": "stdout",
     "output_type": "stream",
     "text": [
      "Fold: 4, logloss: 0.6699977845915557\n",
      "Fold: 0, logloss: 0.6312028268292336\n",
      "Fold: 1, logloss: 0.6766608957448175\n",
      "Fold: 2, logloss: 0.6800562390078696\n"
     ]
    },
    {
     "name": "stderr",
     "output_type": "stream",
     "text": [
      "\u001b[32m[I 2023-03-30 22:10:12,559]\u001b[0m Trial 9 finished with value: 0.6719206332605513 and parameters: {'n_estimators': 57, 'max_depth': 19}. Best is trial 6 with value: 0.6507588650102981.\u001b[0m\n"
     ]
    },
    {
     "name": "stdout",
     "output_type": "stream",
     "text": [
      "Fold: 3, logloss: 0.6986247066827344\n",
      "Fold: 4, logloss: 0.6730584980381014\n",
      "Fold: 0, logloss: 0.592045968847171\n",
      "Fold: 1, logloss: 0.6530047899021615\n",
      "Fold: 2, logloss: 0.6821777681301022\n",
      "Fold: 3, logloss: 0.6816086270139337\n"
     ]
    },
    {
     "name": "stderr",
     "output_type": "stream",
     "text": [
      "\u001b[32m[I 2023-03-30 22:10:13,895]\u001b[0m Trial 10 finished with value: 0.6530968672118191 and parameters: {'n_estimators': 99, 'max_depth': 99}. Best is trial 6 with value: 0.6507588650102981.\u001b[0m\n"
     ]
    },
    {
     "name": "stdout",
     "output_type": "stream",
     "text": [
      "Fold: 4, logloss: 0.6566471821657269\n",
      "Fold: 0, logloss: 0.5978278570801084\n",
      "Fold: 1, logloss: 0.6819395536320724\n",
      "Fold: 2, logloss: 0.6738523567735398\n",
      "Fold: 3, logloss: 0.6863187940877115\n"
     ]
    },
    {
     "name": "stderr",
     "output_type": "stream",
     "text": [
      "\u001b[32m[I 2023-03-30 22:10:14,972]\u001b[0m Trial 11 finished with value: 0.6611499807182917 and parameters: {'n_estimators': 77, 'max_depth': 79}. Best is trial 6 with value: 0.6507588650102981.\u001b[0m\n"
     ]
    },
    {
     "name": "stdout",
     "output_type": "stream",
     "text": [
      "Fold: 4, logloss: 0.6658113420180258\n",
      "Fold: 0, logloss: 0.6095556528581215\n",
      "Fold: 1, logloss: 0.6687523486029854\n",
      "Fold: 2, logloss: 0.6631045704080543\n"
     ]
    },
    {
     "name": "stderr",
     "output_type": "stream",
     "text": [
      "\u001b[32m[I 2023-03-30 22:10:16,064]\u001b[0m Trial 12 finished with value: 0.6613522419411948 and parameters: {'n_estimators': 79, 'max_depth': 84}. Best is trial 6 with value: 0.6507588650102981.\u001b[0m\n"
     ]
    },
    {
     "name": "stdout",
     "output_type": "stream",
     "text": [
      "Fold: 3, logloss: 0.6843566623007746\n",
      "Fold: 4, logloss: 0.6809919755360381\n",
      "Fold: 0, logloss: 0.6011469597378165\n",
      "Fold: 1, logloss: 0.6715148078439508\n",
      "Fold: 2, logloss: 0.6703185069317741\n",
      "Fold: 3, logloss: 0.6893143300249899\n"
     ]
    },
    {
     "name": "stderr",
     "output_type": "stream",
     "text": [
      "\u001b[32m[I 2023-03-30 22:10:17,243]\u001b[0m Trial 13 finished with value: 0.6601873859302788 and parameters: {'n_estimators': 86, 'max_depth': 63}. Best is trial 6 with value: 0.6507588650102981.\u001b[0m\n"
     ]
    },
    {
     "name": "stdout",
     "output_type": "stream",
     "text": [
      "Fold: 4, logloss: 0.6686423251128628\n",
      "Fold: 0, logloss: 0.6119817412596384\n",
      "Fold: 1, logloss: 0.6896100825214364\n",
      "Fold: 2, logloss: 0.6735090224246026\n",
      "Fold: 3, logloss: 0.6830542764527517\n"
     ]
    },
    {
     "name": "stderr",
     "output_type": "stream",
     "text": [
      "\u001b[32m[I 2023-03-30 22:10:18,184]\u001b[0m Trial 14 finished with value: 0.6639234143119873 and parameters: {'n_estimators': 66, 'max_depth': 84}. Best is trial 6 with value: 0.6507588650102981.\u001b[0m\n"
     ]
    },
    {
     "name": "stdout",
     "output_type": "stream",
     "text": [
      "Fold: 4, logloss: 0.6614619489015079\n",
      "Fold: 0, logloss: 0.6142917247901919\n",
      "Fold: 1, logloss: 0.6620866035143533\n",
      "Fold: 2, logloss: 0.6843768922732137\n",
      "Fold: 3, logloss: 0.6910214353390997\n"
     ]
    },
    {
     "name": "stderr",
     "output_type": "stream",
     "text": [
      "\u001b[32m[I 2023-03-30 22:10:19,366]\u001b[0m Trial 15 finished with value: 0.6634507064647648 and parameters: {'n_estimators': 89, 'max_depth': 100}. Best is trial 6 with value: 0.6507588650102981.\u001b[0m\n"
     ]
    },
    {
     "name": "stdout",
     "output_type": "stream",
     "text": [
      "Fold: 4, logloss: 0.6654768764069654\n",
      "Fold: 0, logloss: 0.6134182489409948\n",
      "Fold: 1, logloss: 0.6508773641455979\n",
      "Fold: 2, logloss: 0.6611464637115343\n",
      "Fold: 3, logloss: 0.6837326875404524\n"
     ]
    },
    {
     "name": "stderr",
     "output_type": "stream",
     "text": [
      "\u001b[32m[I 2023-03-30 22:10:20,289]\u001b[0m Trial 16 finished with value: 0.6557521342097681 and parameters: {'n_estimators': 67, 'max_depth': 68}. Best is trial 6 with value: 0.6507588650102981.\u001b[0m\n"
     ]
    },
    {
     "name": "stdout",
     "output_type": "stream",
     "text": [
      "Fold: 4, logloss: 0.6695859067102609\n",
      "Fold: 0, logloss: 0.5918722332217348\n",
      "Fold: 1, logloss: 0.6642526841854137\n",
      "Fold: 2, logloss: 0.6905082583481161\n",
      "Fold: 3, logloss: 0.6926030964850737\n"
     ]
    },
    {
     "name": "stderr",
     "output_type": "stream",
     "text": [
      "\u001b[32m[I 2023-03-30 22:10:20,850]\u001b[0m Trial 17 finished with value: 0.6599892472167401 and parameters: {'n_estimators': 36, 'max_depth': 55}. Best is trial 6 with value: 0.6507588650102981.\u001b[0m\n"
     ]
    },
    {
     "name": "stdout",
     "output_type": "stream",
     "text": [
      "Fold: 4, logloss: 0.6607099638433622\n",
      "Fold: 0, logloss: 0.5884733570123832\n",
      "Fold: 1, logloss: 0.6743208804787106\n"
     ]
    },
    {
     "name": "stderr",
     "output_type": "stream",
     "text": [
      "\u001b[32m[I 2023-03-30 22:10:21,284]\u001b[0m Trial 18 finished with value: 0.6651390837198827 and parameters: {'n_estimators': 26, 'max_depth': 77}. Best is trial 6 with value: 0.6507588650102981.\u001b[0m\n"
     ]
    },
    {
     "name": "stdout",
     "output_type": "stream",
     "text": [
      "Fold: 2, logloss: 0.6788555724188863\n",
      "Fold: 3, logloss: 0.6873961025181116\n",
      "Fold: 4, logloss: 0.6966495061713217\n",
      "Fold: 0, logloss: 0.5960897200708232\n",
      "Fold: 1, logloss: 0.6569567140050887\n",
      "Fold: 2, logloss: 0.6562237842361791\n",
      "Fold: 3, logloss: 0.6719611617074857\n",
      "Fold: 4, logloss: 0.670530124056282\n"
     ]
    },
    {
     "name": "stderr",
     "output_type": "stream",
     "text": [
      "\u001b[32m[I 2023-03-30 22:10:22,407]\u001b[0m Trial 19 finished with value: 0.6503523008151717 and parameters: {'n_estimators': 89, 'max_depth': 40}. Best is trial 19 with value: 0.6503523008151717.\u001b[0m\n"
     ]
    },
    {
     "name": "stdout",
     "output_type": "stream",
     "text": [
      "Fold: 0, logloss: 0.5954376635518567\n",
      "Fold: 1, logloss: 0.6526442629853577\n",
      "Fold: 2, logloss: 0.6883260746254528\n"
     ]
    },
    {
     "name": "stderr",
     "output_type": "stream",
     "text": [
      "\u001b[32m[I 2023-03-30 22:10:23,503]\u001b[0m Trial 20 finished with value: 0.6610402915321844 and parameters: {'n_estimators': 90, 'max_depth': 33}. Best is trial 19 with value: 0.6503523008151717.\u001b[0m\n"
     ]
    },
    {
     "name": "stdout",
     "output_type": "stream",
     "text": [
      "Fold: 3, logloss: 0.6894001396288042\n",
      "Fold: 4, logloss: 0.6793933168694504\n",
      "Fold: 0, logloss: 0.5984179046561523\n",
      "Fold: 1, logloss: 0.6599450907602474\n",
      "Fold: 2, logloss: 0.6677897432846235\n",
      "Fold: 3, logloss: 0.6796619552717957\n"
     ]
    },
    {
     "name": "stderr",
     "output_type": "stream",
     "text": [
      "\u001b[32m[I 2023-03-30 22:10:24,404]\u001b[0m Trial 21 finished with value: 0.6568598290601575 and parameters: {'n_estimators': 69, 'max_depth': 40}. Best is trial 19 with value: 0.6503523008151717.\u001b[0m\n"
     ]
    },
    {
     "name": "stdout",
     "output_type": "stream",
     "text": [
      "Fold: 4, logloss: 0.6784844513279682\n",
      "Fold: 0, logloss: 0.6017610168982349\n",
      "Fold: 1, logloss: 0.6606001276646466\n",
      "Fold: 2, logloss: 0.680048959587381\n"
     ]
    },
    {
     "name": "stderr",
     "output_type": "stream",
     "text": [
      "\u001b[32m[I 2023-03-30 22:10:25,519]\u001b[0m Trial 22 finished with value: 0.6594661944236366 and parameters: {'n_estimators': 84, 'max_depth': 58}. Best is trial 19 with value: 0.6503523008151717.\u001b[0m\n"
     ]
    },
    {
     "name": "stdout",
     "output_type": "stream",
     "text": [
      "Fold: 3, logloss: 0.68658847556023\n",
      "Fold: 4, logloss: 0.6683323924076912\n",
      "Fold: 0, logloss: 0.6012034385078049\n",
      "Fold: 1, logloss: 0.653884973844544\n",
      "Fold: 2, logloss: 0.6635849244026126\n",
      "Fold: 3, logloss: 0.6936051921444573\n"
     ]
    },
    {
     "name": "stderr",
     "output_type": "stream",
     "text": [
      "\u001b[32m[I 2023-03-30 22:10:26,775]\u001b[0m Trial 23 finished with value: 0.6572639111810175 and parameters: {'n_estimators': 96, 'max_depth': 90}. Best is trial 19 with value: 0.6503523008151717.\u001b[0m\n"
     ]
    },
    {
     "name": "stdout",
     "output_type": "stream",
     "text": [
      "Fold: 4, logloss: 0.6740410270056681\n",
      "Fold: 0, logloss: 0.5859418174484871\n",
      "Fold: 1, logloss: 0.6773834790304311\n",
      "Fold: 2, logloss: 0.6759093537482714\n",
      "Fold: 3, logloss: 0.6868921491039824\n"
     ]
    },
    {
     "name": "stderr",
     "output_type": "stream",
     "text": [
      "\u001b[32m[I 2023-03-30 22:10:27,741]\u001b[0m Trial 24 finished with value: 0.6585497216523408 and parameters: {'n_estimators': 72, 'max_depth': 73}. Best is trial 19 with value: 0.6503523008151717.\u001b[0m\n"
     ]
    },
    {
     "name": "stdout",
     "output_type": "stream",
     "text": [
      "Fold: 4, logloss: 0.666621808930532\n",
      "Fold: 0, logloss: 0.6114113199913069\n",
      "Fold: 1, logloss: 0.6696322887432021\n",
      "Fold: 2, logloss: 0.6728424717640682\n"
     ]
    },
    {
     "name": "stderr",
     "output_type": "stream",
     "text": [
      "\u001b[32m[I 2023-03-30 22:10:28,811]\u001b[0m Trial 25 finished with value: 0.6633415316660936 and parameters: {'n_estimators': 82, 'max_depth': 53}. Best is trial 19 with value: 0.6503523008151717.\u001b[0m\n"
     ]
    },
    {
     "name": "stdout",
     "output_type": "stream",
     "text": [
      "Fold: 3, logloss: 0.6880646122016181\n",
      "Fold: 4, logloss: 0.6747569656302719\n",
      "Fold: 0, logloss: 0.6098860196800578\n",
      "Fold: 1, logloss: 0.6471192808228976\n",
      "Fold: 2, logloss: 0.6649379253623208\n",
      "Fold: 3, logloss: 0.6737873774582356\n",
      "Fold: 4, logloss: 0.6576178250919441\n"
     ]
    },
    {
     "name": "stderr",
     "output_type": "stream",
     "text": [
      "\u001b[32m[I 2023-03-30 22:10:29,942]\u001b[0m Trial 26 finished with value: 0.6506696856830911 and parameters: {'n_estimators': 92, 'max_depth': 35}. Best is trial 19 with value: 0.6503523008151717.\u001b[0m\n"
     ]
    },
    {
     "name": "stdout",
     "output_type": "stream",
     "text": [
      "Fold: 0, logloss: 0.60479752761035\n",
      "Fold: 1, logloss: 0.6604868066892766\n",
      "Fold: 2, logloss: 0.6607503468438787\n",
      "Fold: 3, logloss: 0.6837469854711334\n"
     ]
    },
    {
     "name": "stderr",
     "output_type": "stream",
     "text": [
      "\u001b[32m[I 2023-03-30 22:10:31,052]\u001b[0m Trial 27 finished with value: 0.6565564625960336 and parameters: {'n_estimators': 92, 'max_depth': 33}. Best is trial 19 with value: 0.6503523008151717.\u001b[0m\n"
     ]
    },
    {
     "name": "stdout",
     "output_type": "stream",
     "text": [
      "Fold: 4, logloss: 0.6730006463655295\n",
      "Fold: 0, logloss: 0.6151357358496423\n",
      "Fold: 1, logloss: 0.6557617946426755\n",
      "Fold: 2, logloss: 0.6629114724287103\n",
      "Fold: 3, logloss: 0.684641685841066\n"
     ]
    },
    {
     "name": "stderr",
     "output_type": "stream",
     "text": [
      "\u001b[32m[I 2023-03-30 22:10:32,182]\u001b[0m Trial 28 finished with value: 0.6556050724237645 and parameters: {'n_estimators': 92, 'max_depth': 35}. Best is trial 19 with value: 0.6503523008151717.\u001b[0m\n"
     ]
    },
    {
     "name": "stdout",
     "output_type": "stream",
     "text": [
      "Fold: 4, logloss: 0.6595746733567285\n",
      "Fold: 0, logloss: 0.6116322843158437\n",
      "Fold: 1, logloss: 0.6588666351502431\n",
      "Fold: 2, logloss: 0.6751942110708437\n"
     ]
    },
    {
     "name": "stderr",
     "output_type": "stream",
     "text": [
      "\u001b[32m[I 2023-03-30 22:10:32,964]\u001b[0m Trial 29 finished with value: 0.6610879256796578 and parameters: {'n_estimators': 63, 'max_depth': 29}. Best is trial 19 with value: 0.6503523008151717.\u001b[0m\n"
     ]
    },
    {
     "name": "stdout",
     "output_type": "stream",
     "text": [
      "Fold: 3, logloss: 0.6844992863354469\n",
      "Fold: 4, logloss: 0.6752472115259116\n",
      "best trial:\n",
      "[0.6503523008151717]\n",
      "Best parameters: {'n_estimators': 89, 'max_depth': 40}\n"
     ]
    }
   ],
   "source": [
    "# For morgan\n",
    "\n",
    "data_type = 'Morgan'\n",
    "processed_train_path = './data/oral_avail_fingerprints/data_oral_avail_train_morgan.csv'\n",
    "\n",
    "def objective(trial):\n",
    "    params = {\n",
    "        'n_estimators': trial.suggest_int('n_estimators', 10, 100),\n",
    "        'max_depth': trial.suggest_int('max_depth', 10, 100)\n",
    "    }\n",
    "\n",
    "    loss = run_tuning(data_type, processed_train_path, params)\n",
    "    return loss\n",
    "study = optuna.create_study(direction='minimize')\n",
    "study.optimize(objective, n_trials=30)\n",
    "print(f'best trial:')\n",
    "trial_ = study.best_trial\n",
    "print(trial_.values)\n",
    "print(f'Best parameters: {trial_.params}')"
   ]
  },
  {
   "cell_type": "code",
   "execution_count": 22,
   "metadata": {},
   "outputs": [
    {
     "name": "stderr",
     "output_type": "stream",
     "text": [
      "\u001b[32m[I 2023-03-30 22:10:33,028]\u001b[0m A new study created in memory with name: no-name-b065569f-3141-488e-bc08-accfd72158a5\u001b[0m\n"
     ]
    },
    {
     "name": "stdout",
     "output_type": "stream",
     "text": [
      "Fold: 0, logloss: 0.5900430614725523\n",
      "Fold: 1, logloss: 0.6311049664438453\n",
      "Fold: 2, logloss: 0.6730864359656435\n"
     ]
    },
    {
     "name": "stderr",
     "output_type": "stream",
     "text": [
      "\u001b[32m[I 2023-03-30 22:10:33,387]\u001b[0m Trial 0 finished with value: 0.6720306416981096 and parameters: {'n_estimators': 43, 'max_depth': 58}. Best is trial 0 with value: 0.6720306416981096.\u001b[0m\n"
     ]
    },
    {
     "name": "stdout",
     "output_type": "stream",
     "text": [
      "Fold: 3, logloss: 0.6940077219199089\n",
      "Fold: 4, logloss: 0.7719110226885979\n",
      "Fold: 0, logloss: 0.5938439551628578\n",
      "Fold: 1, logloss: 0.6299928486778049\n",
      "Fold: 2, logloss: 0.6676151291681576\n",
      "Fold: 3, logloss: 0.682095131321041\n"
     ]
    },
    {
     "name": "stderr",
     "output_type": "stream",
     "text": [
      "\u001b[32m[I 2023-03-30 22:10:33,932]\u001b[0m Trial 1 finished with value: 0.6423073948898729 and parameters: {'n_estimators': 72, 'max_depth': 58}. Best is trial 1 with value: 0.6423073948898729.\u001b[0m\n"
     ]
    },
    {
     "name": "stdout",
     "output_type": "stream",
     "text": [
      "Fold: 4, logloss: 0.6379899101195029\n",
      "Fold: 0, logloss: 0.5842256266012467\n",
      "Fold: 1, logloss: 0.6227838429843224\n",
      "Fold: 2, logloss: 0.6750267665843224\n"
     ]
    },
    {
     "name": "stderr",
     "output_type": "stream",
     "text": [
      "\u001b[32m[I 2023-03-30 22:10:34,461]\u001b[0m Trial 2 finished with value: 0.6463365716912459 and parameters: {'n_estimators': 70, 'max_depth': 17}. Best is trial 1 with value: 0.6423073948898729.\u001b[0m\n"
     ]
    },
    {
     "name": "stdout",
     "output_type": "stream",
     "text": [
      "Fold: 3, logloss: 0.6896140834895685\n",
      "Fold: 4, logloss: 0.6600325387967703\n",
      "Fold: 0, logloss: 0.5896461584219576\n",
      "Fold: 1, logloss: 0.6234661210159648\n",
      "Fold: 2, logloss: 0.6651703752608141\n"
     ]
    },
    {
     "name": "stderr",
     "output_type": "stream",
     "text": [
      "\u001b[32m[I 2023-03-30 22:10:35,032]\u001b[0m Trial 3 finished with value: 0.6372909301163482 and parameters: {'n_estimators': 74, 'max_depth': 79}. Best is trial 3 with value: 0.6372909301163482.\u001b[0m\n"
     ]
    },
    {
     "name": "stdout",
     "output_type": "stream",
     "text": [
      "Fold: 3, logloss: 0.6762660201768038\n",
      "Fold: 4, logloss: 0.6319059757062006\n",
      "Fold: 0, logloss: 0.5954707823652545\n",
      "Fold: 1, logloss: 0.6232178377637649\n",
      "Fold: 2, logloss: 0.6720887429740269\n",
      "Fold: 3, logloss: 0.6623332937456415\n"
     ]
    },
    {
     "name": "stderr",
     "output_type": "stream",
     "text": [
      "\u001b[32m[I 2023-03-30 22:10:35,775]\u001b[0m Trial 4 finished with value: 0.6375779052196926 and parameters: {'n_estimators': 99, 'max_depth': 78}. Best is trial 3 with value: 0.6372909301163482.\u001b[0m\n"
     ]
    },
    {
     "name": "stdout",
     "output_type": "stream",
     "text": [
      "Fold: 4, logloss: 0.6347788692497751\n",
      "Fold: 0, logloss: 0.5891559910590684\n",
      "Fold: 1, logloss: 0.6300607216029214\n",
      "Fold: 2, logloss: 0.6780934126020485\n",
      "Fold: 3, logloss: 0.698717161856279\n"
     ]
    },
    {
     "name": "stderr",
     "output_type": "stream",
     "text": [
      "\u001b[32m[I 2023-03-30 22:10:36,282]\u001b[0m Trial 5 finished with value: 0.648819661447853 and parameters: {'n_estimators': 66, 'max_depth': 64}. Best is trial 3 with value: 0.6372909301163482.\u001b[0m\n"
     ]
    },
    {
     "name": "stdout",
     "output_type": "stream",
     "text": [
      "Fold: 4, logloss: 0.6480710201189478\n",
      "Fold: 0, logloss: 0.5802055028168726\n",
      "Fold: 1, logloss: 0.6252440125003315\n",
      "Fold: 2, logloss: 0.6654479884177626\n"
     ]
    },
    {
     "name": "stderr",
     "output_type": "stream",
     "text": [
      "\u001b[32m[I 2023-03-30 22:10:36,858]\u001b[0m Trial 6 finished with value: 0.6387504191769238 and parameters: {'n_estimators': 76, 'max_depth': 30}. Best is trial 3 with value: 0.6372909301163482.\u001b[0m\n"
     ]
    },
    {
     "name": "stdout",
     "output_type": "stream",
     "text": [
      "Fold: 3, logloss: 0.6860468200353819\n",
      "Fold: 4, logloss: 0.6368077721142704\n",
      "Fold: 0, logloss: 0.597044466985706\n",
      "Fold: 1, logloss: 0.6380254786362548\n",
      "Fold: 2, logloss: 0.6596994399171305\n",
      "Fold: 3, logloss: 0.6806735988725011\n"
     ]
    },
    {
     "name": "stderr",
     "output_type": "stream",
     "text": [
      "\u001b[32m[I 2023-03-30 22:10:37,470]\u001b[0m Trial 7 finished with value: 0.6461064263400774 and parameters: {'n_estimators': 81, 'max_depth': 34}. Best is trial 3 with value: 0.6372909301163482.\u001b[0m\n"
     ]
    },
    {
     "name": "stdout",
     "output_type": "stream",
     "text": [
      "Fold: 4, logloss: 0.6550891472887947\n",
      "Fold: 0, logloss: 0.585197957410547\n",
      "Fold: 1, logloss: 0.6111505136333266\n",
      "Fold: 2, logloss: 0.6788500662058444\n"
     ]
    },
    {
     "name": "stderr",
     "output_type": "stream",
     "text": [
      "\u001b[32m[I 2023-03-30 22:10:37,801]\u001b[0m Trial 8 finished with value: 0.6389190086633313 and parameters: {'n_estimators': 42, 'max_depth': 69}. Best is trial 3 with value: 0.6372909301163482.\u001b[0m\n"
     ]
    },
    {
     "name": "stdout",
     "output_type": "stream",
     "text": [
      "Fold: 3, logloss: 0.686682350014972\n",
      "Fold: 4, logloss: 0.6327141560519666\n",
      "Fold: 0, logloss: 0.5861381958825703\n",
      "Fold: 1, logloss: 0.641688336228421\n"
     ]
    },
    {
     "name": "stderr",
     "output_type": "stream",
     "text": [
      "\u001b[32m[I 2023-03-30 22:10:38,104]\u001b[0m Trial 9 finished with value: 0.6462874119822227 and parameters: {'n_estimators': 38, 'max_depth': 67}. Best is trial 3 with value: 0.6372909301163482.\u001b[0m\n"
     ]
    },
    {
     "name": "stdout",
     "output_type": "stream",
     "text": [
      "Fold: 2, logloss: 0.6607092239852952\n",
      "Fold: 3, logloss: 0.6915094537343347\n",
      "Fold: 4, logloss: 0.651391850080492\n",
      "Fold: 0, logloss: 0.6056181621707755\n",
      "Fold: 1, logloss: 0.8078470772637246\n"
     ]
    },
    {
     "name": "stderr",
     "output_type": "stream",
     "text": [
      "\u001b[32m[I 2023-03-30 22:10:38,256]\u001b[0m Trial 10 finished with value: 0.7478323044527986 and parameters: {'n_estimators': 16, 'max_depth': 94}. Best is trial 3 with value: 0.6372909301163482.\u001b[0m\n"
     ]
    },
    {
     "name": "stdout",
     "output_type": "stream",
     "text": [
      "Fold: 2, logloss: 0.6853192473116405\n",
      "Fold: 3, logloss: 0.8581544672284738\n",
      "Fold: 4, logloss: 0.7822225682893792\n",
      "Fold: 0, logloss: 0.5923382192594764\n",
      "Fold: 1, logloss: 0.6296844837858232\n",
      "Fold: 2, logloss: 0.6611050024879306\n",
      "Fold: 3, logloss: 0.6831820708165766\n"
     ]
    },
    {
     "name": "stderr",
     "output_type": "stream",
     "text": [
      "\u001b[32m[I 2023-03-30 22:10:38,981]\u001b[0m Trial 11 finished with value: 0.640006559608203 and parameters: {'n_estimators': 96, 'max_depth': 92}. Best is trial 3 with value: 0.6372909301163482.\u001b[0m\n"
     ]
    },
    {
     "name": "stdout",
     "output_type": "stream",
     "text": [
      "Fold: 4, logloss: 0.6337230216912078\n",
      "Fold: 0, logloss: 0.6017608638905751\n",
      "Fold: 1, logloss: 0.6382250695973123\n",
      "Fold: 2, logloss: 0.6828928849232386\n"
     ]
    },
    {
     "name": "stderr",
     "output_type": "stream",
     "text": [
      "\u001b[32m[I 2023-03-30 22:10:39,729]\u001b[0m Trial 12 finished with value: 0.6473173722977397 and parameters: {'n_estimators': 99, 'max_depth': 77}. Best is trial 3 with value: 0.6372909301163482.\u001b[0m\n"
     ]
    },
    {
     "name": "stdout",
     "output_type": "stream",
     "text": [
      "Fold: 3, logloss: 0.6702154784982806\n",
      "Fold: 4, logloss: 0.6434925645792919\n",
      "Fold: 0, logloss: 0.5874385409838301\n",
      "Fold: 1, logloss: 0.621193608239385\n",
      "Fold: 2, logloss: 0.6576410314298164\n",
      "Fold: 3, logloss: 0.6685600218688851\n"
     ]
    },
    {
     "name": "stderr",
     "output_type": "stream",
     "text": [
      "\u001b[32m[I 2023-03-30 22:10:40,375]\u001b[0m Trial 13 finished with value: 0.6337611674609684 and parameters: {'n_estimators': 85, 'max_depth': 82}. Best is trial 13 with value: 0.6337611674609684.\u001b[0m\n"
     ]
    },
    {
     "name": "stdout",
     "output_type": "stream",
     "text": [
      "Fold: 4, logloss: 0.6339726347829256\n",
      "Fold: 0, logloss: 0.5938458328646344\n",
      "Fold: 1, logloss: 0.6259855041346281\n"
     ]
    },
    {
     "name": "stderr",
     "output_type": "stream",
     "text": [
      "\u001b[32m[I 2023-03-30 22:10:40,845]\u001b[0m Trial 14 finished with value: 0.6378135884764002 and parameters: {'n_estimators': 57, 'max_depth': 85}. Best is trial 13 with value: 0.6337611674609684.\u001b[0m\n"
     ]
    },
    {
     "name": "stdout",
     "output_type": "stream",
     "text": [
      "Fold: 2, logloss: 0.6568569595615312\n",
      "Fold: 3, logloss: 0.6764734720299302\n",
      "Fold: 4, logloss: 0.6359061737912779\n",
      "Fold: 0, logloss: 0.5865975429895055\n",
      "Fold: 1, logloss: 0.6099780167695731\n",
      "Fold: 2, logloss: 0.6604068279665861\n",
      "Fold: 3, logloss: 0.6740445483514518\n"
     ]
    },
    {
     "name": "stderr",
     "output_type": "stream",
     "text": [
      "\u001b[32m[I 2023-03-30 22:10:41,498]\u001b[0m Trial 15 finished with value: 0.6334365205536097 and parameters: {'n_estimators': 85, 'max_depth': 46}. Best is trial 15 with value: 0.6334365205536097.\u001b[0m\n"
     ]
    },
    {
     "name": "stdout",
     "output_type": "stream",
     "text": [
      "Fold: 4, logloss: 0.6361556666909317\n",
      "Fold: 0, logloss: 0.6028208214342367\n",
      "Fold: 1, logloss: 0.6275736065423181\n",
      "Fold: 2, logloss: 0.6717585134711312\n"
     ]
    },
    {
     "name": "stderr",
     "output_type": "stream",
     "text": [
      "\u001b[32m[I 2023-03-30 22:10:42,150]\u001b[0m Trial 16 finished with value: 0.6454506669598639 and parameters: {'n_estimators': 87, 'max_depth': 43}. Best is trial 15 with value: 0.6334365205536097.\u001b[0m\n"
     ]
    },
    {
     "name": "stdout",
     "output_type": "stream",
     "text": [
      "Fold: 3, logloss: 0.6875012716281496\n",
      "Fold: 4, logloss: 0.6375991217234837\n",
      "Fold: 0, logloss: 0.5878089706011359\n",
      "Fold: 1, logloss: 0.6071783662075134\n",
      "Fold: 2, logloss: 0.6798371503598262\n",
      "Fold: 3, logloss: 0.6762994484103935\n"
     ]
    },
    {
     "name": "stderr",
     "output_type": "stream",
     "text": [
      "\u001b[32m[I 2023-03-30 22:10:42,810]\u001b[0m Trial 17 finished with value: 0.6382328884853209 and parameters: {'n_estimators': 87, 'max_depth': 47}. Best is trial 15 with value: 0.6334365205536097.\u001b[0m\n"
     ]
    },
    {
     "name": "stdout",
     "output_type": "stream",
     "text": [
      "Fold: 4, logloss: 0.6400405068477354\n",
      "Fold: 0, logloss: 0.5954892174169556\n",
      "Fold: 1, logloss: 0.6282955833115577\n"
     ]
    },
    {
     "name": "stderr",
     "output_type": "stream",
     "text": [
      "\u001b[32m[I 2023-03-30 22:10:43,206]\u001b[0m Trial 18 finished with value: 0.6387909539465042 and parameters: {'n_estimators': 56, 'max_depth': 10}. Best is trial 15 with value: 0.6334365205536097.\u001b[0m\n"
     ]
    },
    {
     "name": "stdout",
     "output_type": "stream",
     "text": [
      "Fold: 2, logloss: 0.6606014444408387\n",
      "Fold: 3, logloss: 0.6673009563968006\n",
      "Fold: 4, logloss: 0.6422675681663688\n",
      "Fold: 0, logloss: 0.5817015784618129\n",
      "Fold: 1, logloss: 0.6343964146893523\n",
      "Fold: 2, logloss: 0.6784226397046538\n",
      "Fold: 3, logloss: 0.6921757368145776\n"
     ]
    },
    {
     "name": "stderr",
     "output_type": "stream",
     "text": [
      "\u001b[32m[I 2023-03-30 22:10:43,869]\u001b[0m Trial 19 finished with value: 0.6485655617001951 and parameters: {'n_estimators': 88, 'max_depth': 44}. Best is trial 15 with value: 0.6334365205536097.\u001b[0m\n",
      "\u001b[32m[I 2023-03-30 22:10:44,022]\u001b[0m Trial 20 finished with value: 0.6846734831591954 and parameters: {'n_estimators': 15, 'max_depth': 30}. Best is trial 15 with value: 0.6334365205536097.\u001b[0m\n"
     ]
    },
    {
     "name": "stdout",
     "output_type": "stream",
     "text": [
      "Fold: 4, logloss: 0.6561314388305793\n",
      "Fold: 0, logloss: 0.6270628615505546\n",
      "Fold: 1, logloss: 0.6467458457841713\n",
      "Fold: 2, logloss: 0.6836943550337009\n",
      "Fold: 3, logloss: 0.6859269144903479\n",
      "Fold: 4, logloss: 0.7799374389372022\n",
      "Fold: 0, logloss: 0.6174034628992496\n",
      "Fold: 1, logloss: 0.6269042251984364\n",
      "Fold: 2, logloss: 0.682703940746157\n"
     ]
    },
    {
     "name": "stderr",
     "output_type": "stream",
     "text": [
      "\u001b[32m[I 2023-03-30 22:10:44,534]\u001b[0m Trial 21 finished with value: 0.6521410381615459 and parameters: {'n_estimators': 64, 'max_depth': 98}. Best is trial 15 with value: 0.6334365205536097.\u001b[0m\n"
     ]
    },
    {
     "name": "stdout",
     "output_type": "stream",
     "text": [
      "Fold: 3, logloss: 0.6843110245581355\n",
      "Fold: 4, logloss: 0.6493825374057508\n",
      "Fold: 0, logloss: 0.6056931838700911\n",
      "Fold: 1, logloss: 0.6226589156434258\n",
      "Fold: 2, logloss: 0.6808334221426783\n",
      "Fold: 3, logloss: 0.6931281275141704\n"
     ]
    },
    {
     "name": "stderr",
     "output_type": "stream",
     "text": [
      "\u001b[32m[I 2023-03-30 22:10:45,146]\u001b[0m Trial 22 finished with value: 0.6515477274242625 and parameters: {'n_estimators': 80, 'max_depth': 80}. Best is trial 15 with value: 0.6334365205536097.\u001b[0m\n"
     ]
    },
    {
     "name": "stdout",
     "output_type": "stream",
     "text": [
      "Fold: 4, logloss: 0.655424987950947\n",
      "Fold: 0, logloss: 0.5898863381915835\n",
      "Fold: 1, logloss: 0.6247930816866973\n",
      "Fold: 2, logloss: 0.6602604750687401\n"
     ]
    },
    {
     "name": "stderr",
     "output_type": "stream",
     "text": [
      "\u001b[32m[I 2023-03-30 22:10:45,829]\u001b[0m Trial 23 finished with value: 0.6368671093901637 and parameters: {'n_estimators': 90, 'max_depth': 87}. Best is trial 15 with value: 0.6334365205536097.\u001b[0m\n"
     ]
    },
    {
     "name": "stdout",
     "output_type": "stream",
     "text": [
      "Fold: 3, logloss: 0.6640466468671261\n",
      "Fold: 4, logloss: 0.6453490051366714\n",
      "Fold: 0, logloss: 0.5960106892749176\n",
      "Fold: 1, logloss: 0.6266770319251781\n",
      "Fold: 2, logloss: 0.658609964928652\n",
      "Fold: 3, logloss: 0.6725102820609916\n"
     ]
    },
    {
     "name": "stderr",
     "output_type": "stream",
     "text": [
      "\u001b[32m[I 2023-03-30 22:10:46,521]\u001b[0m Trial 24 finished with value: 0.636263674431204 and parameters: {'n_estimators': 91, 'max_depth': 52}. Best is trial 15 with value: 0.6334365205536097.\u001b[0m\n"
     ]
    },
    {
     "name": "stdout",
     "output_type": "stream",
     "text": [
      "Fold: 4, logloss: 0.6275104039662808\n",
      "Fold: 0, logloss: 0.593112941103635\n",
      "Fold: 1, logloss: 0.6157612652187887\n",
      "Fold: 2, logloss: 0.6526917287670153\n"
     ]
    },
    {
     "name": "stderr",
     "output_type": "stream",
     "text": [
      "\u001b[32m[I 2023-03-30 22:10:47,234]\u001b[0m Trial 25 finished with value: 0.6348303925837043 and parameters: {'n_estimators': 93, 'max_depth': 51}. Best is trial 15 with value: 0.6334365205536097.\u001b[0m\n"
     ]
    },
    {
     "name": "stdout",
     "output_type": "stream",
     "text": [
      "Fold: 3, logloss: 0.6772802609478843\n",
      "Fold: 4, logloss: 0.6353057668811978\n",
      "Fold: 0, logloss: 0.5936004496657905\n",
      "Fold: 1, logloss: 0.6300006439495659\n",
      "Fold: 2, logloss: 0.6752449691264835\n",
      "Fold: 3, logloss: 0.6618960463976391\n"
     ]
    },
    {
     "name": "stderr",
     "output_type": "stream",
     "text": [
      "\u001b[32m[I 2023-03-30 22:10:47,859]\u001b[0m Trial 26 finished with value: 0.6407549848223686 and parameters: {'n_estimators': 82, 'max_depth': 35}. Best is trial 15 with value: 0.6334365205536097.\u001b[0m\n"
     ]
    },
    {
     "name": "stdout",
     "output_type": "stream",
     "text": [
      "Fold: 4, logloss: 0.6430328149723641\n",
      "Fold: 0, logloss: 0.5881942217896468\n",
      "Fold: 1, logloss: 0.6374953782938743\n",
      "Fold: 2, logloss: 0.6616762671465707\n"
     ]
    },
    {
     "name": "stderr",
     "output_type": "stream",
     "text": [
      "\u001b[32m[I 2023-03-30 22:10:48,528]\u001b[0m Trial 27 finished with value: 0.641498700800442 and parameters: {'n_estimators': 94, 'max_depth': 52}. Best is trial 15 with value: 0.6334365205536097.\u001b[0m\n"
     ]
    },
    {
     "name": "stdout",
     "output_type": "stream",
     "text": [
      "Fold: 3, logloss: 0.6809748888090598\n",
      "Fold: 4, logloss: 0.6391527479630589\n",
      "Fold: 0, logloss: 0.6145229743239571\n",
      "Fold: 1, logloss: 0.6383507813040878\n",
      "Fold: 2, logloss: 0.6502859534622137\n"
     ]
    },
    {
     "name": "stderr",
     "output_type": "stream",
     "text": [
      "\u001b[32m[I 2023-03-30 22:10:49,008]\u001b[0m Trial 28 finished with value: 0.6428001588889172 and parameters: {'n_estimators': 63, 'max_depth': 71}. Best is trial 15 with value: 0.6334365205536097.\u001b[0m\n"
     ]
    },
    {
     "name": "stdout",
     "output_type": "stream",
     "text": [
      "Fold: 3, logloss: 0.6672878215760952\n",
      "Fold: 4, logloss: 0.6435532637782319\n",
      "Fold: 0, logloss: 0.593371377200313\n",
      "Fold: 1, logloss: 0.644917484370817\n",
      "Fold: 2, logloss: 0.6924579881400728\n",
      "Fold: 3, logloss: 0.6891860924331101\n"
     ]
    },
    {
     "name": "stderr",
     "output_type": "stream",
     "text": [
      "\u001b[32m[I 2023-03-30 22:10:49,427]\u001b[0m Trial 29 finished with value: 0.6536798553012768 and parameters: {'n_estimators': 51, 'max_depth': 63}. Best is trial 15 with value: 0.6334365205536097.\u001b[0m\n"
     ]
    },
    {
     "name": "stdout",
     "output_type": "stream",
     "text": [
      "Fold: 4, logloss: 0.6484663343620714\n",
      "best trial:\n",
      "[0.6334365205536097]\n",
      "Best parameters: {'n_estimators': 85, 'max_depth': 46}\n"
     ]
    }
   ],
   "source": [
    "# For maccskeys\n",
    "\n",
    "data_type = 'MACCSkeys'\n",
    "processed_train_path = './data/oral_avail_fingerprints/data_oral_avail_train_maccskeys.csv'\n",
    "\n",
    "def objective(trial):\n",
    "    params = {\n",
    "        'n_estimators': trial.suggest_int('n_estimators', 10, 100),\n",
    "        'max_depth': trial.suggest_int('max_depth', 10, 100)\n",
    "    }\n",
    "\n",
    "    loss = run_tuning(data_type, processed_train_path, params)\n",
    "    return loss\n",
    "study = optuna.create_study(direction='minimize')\n",
    "study.optimize(objective, n_trials=30)\n",
    "print(f'best trial:')\n",
    "trial_ = study.best_trial\n",
    "print(trial_.values)\n",
    "print(f'Best parameters: {trial_.params}')"
   ]
  },
  {
   "cell_type": "code",
   "execution_count": 24,
   "metadata": {},
   "outputs": [
    {
     "name": "stderr",
     "output_type": "stream",
     "text": [
      "\u001b[32m[I 2023-03-30 22:11:14,477]\u001b[0m A new study created in memory with name: no-name-eb0f18b4-cffd-42f5-8fab-f0d1a25daff6\u001b[0m\n"
     ]
    },
    {
     "name": "stdout",
     "output_type": "stream",
     "text": [
      "Fold: 0, logloss: 0.7658011993817626\n",
      "Fold: 1, logloss: 1.0278093757548183\n",
      "Fold: 2, logloss: 0.6877185376310919\n",
      "Fold: 3, logloss: 0.7742460414301828\n"
     ]
    },
    {
     "name": "stderr",
     "output_type": "stream",
     "text": [
      "\u001b[32m[I 2023-03-30 22:11:15,467]\u001b[0m Trial 0 finished with value: 0.8053286033369454 and parameters: {'n_estimators': 73, 'max_depth': 94}. Best is trial 0 with value: 0.8053286033369454.\u001b[0m\n"
     ]
    },
    {
     "name": "stdout",
     "output_type": "stream",
     "text": [
      "Fold: 4, logloss: 0.771067862486872\n",
      "Fold: 0, logloss: 0.6349545810814862\n",
      "Fold: 1, logloss: 0.6842050323891357\n",
      "Fold: 2, logloss: 0.6623077461302544\n"
     ]
    },
    {
     "name": "stderr",
     "output_type": "stream",
     "text": [
      "\u001b[32m[I 2023-03-30 22:11:16,170]\u001b[0m Trial 1 finished with value: 0.6810676824551527 and parameters: {'n_estimators': 65, 'max_depth': 16}. Best is trial 1 with value: 0.6810676824551527.\u001b[0m\n"
     ]
    },
    {
     "name": "stdout",
     "output_type": "stream",
     "text": [
      "Fold: 3, logloss: 0.7158906708150833\n",
      "Fold: 4, logloss: 0.7079803818598042\n",
      "Fold: 0, logloss: 0.6313120092049551\n",
      "Fold: 1, logloss: 0.6682293533007568\n",
      "Fold: 2, logloss: 0.6627484162875977\n",
      "Fold: 3, logloss: 0.7093321409503633\n"
     ]
    },
    {
     "name": "stderr",
     "output_type": "stream",
     "text": [
      "\u001b[32m[I 2023-03-30 22:11:16,509]\u001b[0m Trial 2 finished with value: 0.6742602505132146 and parameters: {'n_estimators': 28, 'max_depth': 11}. Best is trial 2 with value: 0.6742602505132146.\u001b[0m\n"
     ]
    },
    {
     "name": "stdout",
     "output_type": "stream",
     "text": [
      "Fold: 4, logloss: 0.6996793328224\n",
      "Fold: 0, logloss: 0.7791170946552932\n",
      "Fold: 1, logloss: 1.0587094163956752\n",
      "Fold: 2, logloss: 0.8451717668019616\n",
      "Fold: 3, logloss: 0.7770806616112406\n"
     ]
    },
    {
     "name": "stderr",
     "output_type": "stream",
     "text": [
      "\u001b[32m[I 2023-03-30 22:11:17,461]\u001b[0m Trial 3 finished with value: 0.8435783654425235 and parameters: {'n_estimators': 68, 'max_depth': 66}. Best is trial 2 with value: 0.6742602505132146.\u001b[0m\n"
     ]
    },
    {
     "name": "stdout",
     "output_type": "stream",
     "text": [
      "Fold: 4, logloss: 0.757812887748447\n",
      "Fold: 0, logloss: 0.7791827169789893\n",
      "Fold: 1, logloss: 1.4760500676535202\n",
      "Fold: 2, logloss: 0.883102842409379\n"
     ]
    },
    {
     "name": "stderr",
     "output_type": "stream",
     "text": [
      "\u001b[32m[I 2023-03-30 22:11:17,793]\u001b[0m Trial 4 finished with value: 1.0308286884982478 and parameters: {'n_estimators': 16, 'max_depth': 81}. Best is trial 2 with value: 0.6742602505132146.\u001b[0m\n"
     ]
    },
    {
     "name": "stdout",
     "output_type": "stream",
     "text": [
      "Fold: 3, logloss: 1.129339492139811\n",
      "Fold: 4, logloss: 0.8864683233095392\n",
      "Fold: 0, logloss: 0.6329491451170526\n",
      "Fold: 1, logloss: 1.3158100705320999\n",
      "Fold: 2, logloss: 0.8548925989822477\n",
      "Fold: 3, logloss: 1.0792866600640942\n"
     ]
    },
    {
     "name": "stderr",
     "output_type": "stream",
     "text": [
      "\u001b[32m[I 2023-03-30 22:11:18,241]\u001b[0m Trial 5 finished with value: 0.9264465146691855 and parameters: {'n_estimators': 27, 'max_depth': 99}. Best is trial 2 with value: 0.6742602505132146.\u001b[0m\n"
     ]
    },
    {
     "name": "stdout",
     "output_type": "stream",
     "text": [
      "Fold: 4, logloss: 0.749294098650433\n",
      "Fold: 0, logloss: 0.6376384223254232\n",
      "Fold: 1, logloss: 1.0444653636385413\n",
      "Fold: 2, logloss: 0.8587909172179871\n",
      "Fold: 3, logloss: 0.7832095830189439\n"
     ]
    },
    {
     "name": "stderr",
     "output_type": "stream",
     "text": [
      "\u001b[32m[I 2023-03-30 22:11:19,095]\u001b[0m Trial 6 finished with value: 0.8157929576059368 and parameters: {'n_estimators': 59, 'max_depth': 95}. Best is trial 2 with value: 0.6742602505132146.\u001b[0m\n"
     ]
    },
    {
     "name": "stdout",
     "output_type": "stream",
     "text": [
      "Fold: 4, logloss: 0.7548605018287885\n",
      "Fold: 0, logloss: 0.6335602303502197\n",
      "Fold: 1, logloss: 0.7485060114039257\n",
      "Fold: 2, logloss: 0.7111528228466576\n",
      "Fold: 3, logloss: 0.7760032209506645\n"
     ]
    },
    {
     "name": "stderr",
     "output_type": "stream",
     "text": [
      "\u001b[32m[I 2023-03-30 22:11:20,028]\u001b[0m Trial 7 finished with value: 0.721393879884145 and parameters: {'n_estimators': 68, 'max_depth': 36}. Best is trial 2 with value: 0.6742602505132146.\u001b[0m\n"
     ]
    },
    {
     "name": "stdout",
     "output_type": "stream",
     "text": [
      "Fold: 4, logloss: 0.7377471138692576\n",
      "Fold: 0, logloss: 0.6462883179109215\n",
      "Fold: 1, logloss: 0.7728948082253985\n",
      "Fold: 2, logloss: 0.7356648258180785\n",
      "Fold: 3, logloss: 0.7776957608370358\n"
     ]
    },
    {
     "name": "stderr",
     "output_type": "stream",
     "text": [
      "\u001b[32m[I 2023-03-30 22:11:20,591]\u001b[0m Trial 8 finished with value: 0.742797881704359 and parameters: {'n_estimators': 37, 'max_depth': 36}. Best is trial 2 with value: 0.6742602505132146.\u001b[0m\n"
     ]
    },
    {
     "name": "stdout",
     "output_type": "stream",
     "text": [
      "Fold: 4, logloss: 0.7814456957303612\n",
      "Fold: 0, logloss: 0.7602416685603097\n",
      "Fold: 1, logloss: 1.3129610258503956\n"
     ]
    },
    {
     "name": "stderr",
     "output_type": "stream",
     "text": [
      "\u001b[32m[I 2023-03-30 22:11:21,008]\u001b[0m Trial 9 finished with value: 0.8904452661556501 and parameters: {'n_estimators': 26, 'max_depth': 52}. Best is trial 2 with value: 0.6742602505132146.\u001b[0m\n"
     ]
    },
    {
     "name": "stdout",
     "output_type": "stream",
     "text": [
      "Fold: 2, logloss: 0.8636549668112276\n",
      "Fold: 3, logloss: 0.7681633083160263\n",
      "Fold: 4, logloss: 0.7472053612402911\n",
      "Fold: 0, logloss: 0.6492093463390924\n",
      "Fold: 1, logloss: 0.6760155986448178\n",
      "Fold: 2, logloss: 0.6617213980056837\n",
      "Fold: 3, logloss: 0.7026829168042484\n"
     ]
    },
    {
     "name": "stderr",
     "output_type": "stream",
     "text": [
      "\u001b[32m[I 2023-03-30 22:11:21,728]\u001b[0m Trial 10 finished with value: 0.6759549808370305 and parameters: {'n_estimators': 96, 'max_depth': 10}. Best is trial 2 with value: 0.6742602505132146.\u001b[0m\n"
     ]
    },
    {
     "name": "stdout",
     "output_type": "stream",
     "text": [
      "Fold: 4, logloss: 0.6901456443913104\n",
      "Fold: 0, logloss: 0.6381531208977871\n",
      "Fold: 1, logloss: 0.6708527015516373\n",
      "Fold: 2, logloss: 0.671539002868867\n"
     ]
    },
    {
     "name": "stderr",
     "output_type": "stream",
     "text": [
      "\u001b[32m[I 2023-03-30 22:11:22,461]\u001b[0m Trial 11 finished with value: 0.6768876720933398 and parameters: {'n_estimators': 89, 'max_depth': 11}. Best is trial 2 with value: 0.6742602505132146.\u001b[0m\n"
     ]
    },
    {
     "name": "stdout",
     "output_type": "stream",
     "text": [
      "Fold: 3, logloss: 0.7128097328592047\n",
      "Fold: 4, logloss: 0.6910838022892025\n",
      "Fold: 0, logloss: 0.6375444366458359\n",
      "Fold: 1, logloss: 0.7191798981146655\n",
      "Fold: 2, logloss: 0.692377411143118\n",
      "Fold: 3, logloss: 0.7662861675901216\n"
     ]
    },
    {
     "name": "stderr",
     "output_type": "stream",
     "text": [
      "\u001b[32m[I 2023-03-30 22:11:23,670]\u001b[0m Trial 12 finished with value: 0.7108200322970053 and parameters: {'n_estimators': 100, 'max_depth': 26}. Best is trial 2 with value: 0.6742602505132146.\u001b[0m\n"
     ]
    },
    {
     "name": "stdout",
     "output_type": "stream",
     "text": [
      "Fold: 4, logloss: 0.738712247991286\n",
      "Fold: 0, logloss: 0.6228255872663536\n",
      "Fold: 1, logloss: 0.7214955332057772\n",
      "Fold: 2, logloss: 0.6882041439461268\n"
     ]
    },
    {
     "name": "stderr",
     "output_type": "stream",
     "text": [
      "\u001b[32m[I 2023-03-30 22:11:24,281]\u001b[0m Trial 13 finished with value: 0.7105031048056855 and parameters: {'n_estimators': 42, 'max_depth': 26}. Best is trial 2 with value: 0.6742602505132146.\u001b[0m\n"
     ]
    },
    {
     "name": "stdout",
     "output_type": "stream",
     "text": [
      "Fold: 3, logloss: 0.7770804026091691\n",
      "Fold: 4, logloss: 0.7429098570010008\n",
      "Fold: 0, logloss: 0.780137434823816\n",
      "Fold: 1, logloss: 1.187689081283382\n",
      "Fold: 2, logloss: 0.844473769242169\n",
      "Fold: 3, logloss: 0.7953421466107543\n"
     ]
    },
    {
     "name": "stderr",
     "output_type": "stream",
     "text": [
      "\u001b[32m[I 2023-03-30 22:11:24,952]\u001b[0m Trial 14 finished with value: 0.8719660335419022 and parameters: {'n_estimators': 47, 'max_depth': 52}. Best is trial 2 with value: 0.6742602505132146.\u001b[0m\n"
     ]
    },
    {
     "name": "stdout",
     "output_type": "stream",
     "text": [
      "Fold: 4, logloss: 0.7521877357493897\n",
      "Fold: 0, logloss: 0.6412277380366892\n",
      "Fold: 1, logloss: 0.6711467865023314\n",
      "Fold: 2, logloss: 0.6663848235387634\n"
     ]
    },
    {
     "name": "stderr",
     "output_type": "stream",
     "text": [
      "\u001b[32m[I 2023-03-30 22:11:25,605]\u001b[0m Trial 15 finished with value: 0.67448730875284 and parameters: {'n_estimators': 84, 'max_depth': 10}. Best is trial 2 with value: 0.6742602505132146.\u001b[0m\n"
     ]
    },
    {
     "name": "stdout",
     "output_type": "stream",
     "text": [
      "Fold: 3, logloss: 0.7022341506422616\n",
      "Fold: 4, logloss: 0.6914430450441542\n",
      "Fold: 0, logloss: 0.6276207907910095\n",
      "Fold: 1, logloss: 0.7105587351069078\n",
      "Fold: 2, logloss: 0.6629977348798376\n",
      "Fold: 3, logloss: 0.7535536566654191\n"
     ]
    },
    {
     "name": "stderr",
     "output_type": "stream",
     "text": [
      "\u001b[32m[I 2023-03-30 22:11:26,530]\u001b[0m Trial 16 finished with value: 0.6977112278861601 and parameters: {'n_estimators': 82, 'max_depth': 24}. Best is trial 2 with value: 0.6742602505132146.\u001b[0m\n"
     ]
    },
    {
     "name": "stdout",
     "output_type": "stream",
     "text": [
      "Fold: 4, logloss: 0.7338252219876265\n",
      "Fold: 0, logloss: 0.7991569834147128\n",
      "Fold: 1, logloss: 2.0980685449048546\n",
      "Fold: 2, logloss: 1.4517785503504328\n"
     ]
    },
    {
     "name": "stderr",
     "output_type": "stream",
     "text": [
      "\u001b[32m[I 2023-03-30 22:11:26,797]\u001b[0m Trial 17 finished with value: 1.5545859390049395 and parameters: {'n_estimators': 10, 'max_depth': 41}. Best is trial 2 with value: 0.6742602505132146.\u001b[0m\n"
     ]
    },
    {
     "name": "stdout",
     "output_type": "stream",
     "text": [
      "Fold: 3, logloss: 2.021958029578072\n",
      "Fold: 4, logloss: 1.4019675867766244\n",
      "Fold: 0, logloss: 0.640132509840024\n",
      "Fold: 1, logloss: 0.8001215303795571\n",
      "Fold: 2, logloss: 0.8390429273918567\n",
      "Fold: 3, logloss: 0.7776873377477043\n"
     ]
    },
    {
     "name": "stderr",
     "output_type": "stream",
     "text": [
      "\u001b[32m[I 2023-03-30 22:11:27,566]\u001b[0m Trial 18 finished with value: 0.7617337512039634 and parameters: {'n_estimators': 55, 'max_depth': 65}. Best is trial 2 with value: 0.6742602505132146.\u001b[0m\n"
     ]
    },
    {
     "name": "stdout",
     "output_type": "stream",
     "text": [
      "Fold: 4, logloss: 0.7516844506606751\n",
      "Fold: 0, logloss: 0.6242106328492255\n",
      "Fold: 1, logloss: 0.6986746317350305\n",
      "Fold: 2, logloss: 0.668288152507004\n",
      "Fold: 3, logloss: 0.7299813050194597\n"
     ]
    },
    {
     "name": "stderr",
     "output_type": "stream",
     "text": [
      "\u001b[32m[I 2023-03-30 22:11:28,404]\u001b[0m Trial 19 finished with value: 0.6870330966513659 and parameters: {'n_estimators': 79, 'max_depth': 19}. Best is trial 2 with value: 0.6742602505132146.\u001b[0m\n"
     ]
    },
    {
     "name": "stdout",
     "output_type": "stream",
     "text": [
      "Fold: 4, logloss: 0.7140107611461095\n",
      "Fold: 0, logloss: 0.7653247047187325\n",
      "Fold: 1, logloss: 1.2841209688689499\n",
      "Fold: 2, logloss: 1.0060724809726558\n",
      "Fold: 3, logloss: 0.8021701388730047\n"
     ]
    },
    {
     "name": "stderr",
     "output_type": "stream",
     "text": [
      "\u001b[32m[I 2023-03-30 22:11:28,902]\u001b[0m Trial 20 finished with value: 0.9550891939351608 and parameters: {'n_estimators': 32, 'max_depth': 45}. Best is trial 2 with value: 0.6742602505132146.\u001b[0m\n"
     ]
    },
    {
     "name": "stdout",
     "output_type": "stream",
     "text": [
      "Fold: 4, logloss: 0.9177576762424612\n",
      "Fold: 0, logloss: 0.6367724311859817\n",
      "Fold: 1, logloss: 0.6782348371461665\n",
      "Fold: 2, logloss: 0.6629117831988052\n"
     ]
    },
    {
     "name": "stderr",
     "output_type": "stream",
     "text": [
      "\u001b[32m[I 2023-03-30 22:11:29,701]\u001b[0m Trial 21 finished with value: 0.6755234563358343 and parameters: {'n_estimators': 100, 'max_depth': 11}. Best is trial 2 with value: 0.6742602505132146.\u001b[0m\n"
     ]
    },
    {
     "name": "stdout",
     "output_type": "stream",
     "text": [
      "Fold: 3, logloss: 0.7084361431175231\n",
      "Fold: 4, logloss: 0.6912620870306952\n",
      "Fold: 0, logloss: 0.6282066722799233\n",
      "Fold: 1, logloss: 0.6938703015228047\n",
      "Fold: 2, logloss: 0.6584858069962278\n",
      "Fold: 3, logloss: 0.7216892209794465\n"
     ]
    },
    {
     "name": "stderr",
     "output_type": "stream",
     "text": [
      "\u001b[32m[I 2023-03-30 22:11:30,677]\u001b[0m Trial 22 finished with value: 0.6857656942181525 and parameters: {'n_estimators': 92, 'max_depth': 19}. Best is trial 2 with value: 0.6742602505132146.\u001b[0m\n"
     ]
    },
    {
     "name": "stdout",
     "output_type": "stream",
     "text": [
      "Fold: 4, logloss: 0.7265764693123595\n",
      "Fold: 0, logloss: 0.6282514959273628\n",
      "Fold: 1, logloss: 0.8989952805087703\n",
      "Fold: 2, logloss: 0.7127679988219006\n",
      "Fold: 3, logloss: 0.7705681515985415\n"
     ]
    },
    {
     "name": "stderr",
     "output_type": "stream",
     "text": [
      "\u001b[32m[I 2023-03-30 22:11:31,773]\u001b[0m Trial 23 finished with value: 0.751624338436863 and parameters: {'n_estimators': 87, 'max_depth': 31}. Best is trial 2 with value: 0.6742602505132146.\u001b[0m\n"
     ]
    },
    {
     "name": "stdout",
     "output_type": "stream",
     "text": [
      "Fold: 4, logloss: 0.7475387653277399\n",
      "Fold: 0, logloss: 0.6344798921417261\n",
      "Fold: 1, logloss: 0.6849311070244831\n",
      "Fold: 2, logloss: 0.6524816317190787\n",
      "Fold: 3, logloss: 0.7059020277633088\n"
     ]
    },
    {
     "name": "stderr",
     "output_type": "stream",
     "text": [
      "\u001b[32m[I 2023-03-30 22:11:32,671]\u001b[0m Trial 24 finished with value: 0.6769195708011998 and parameters: {'n_estimators': 100, 'max_depth': 14}. Best is trial 2 with value: 0.6742602505132146.\u001b[0m\n"
     ]
    },
    {
     "name": "stdout",
     "output_type": "stream",
     "text": [
      "Fold: 4, logloss: 0.7068031953574027\n",
      "Fold: 0, logloss: 0.6328360040198665\n",
      "Fold: 1, logloss: 0.67933807964636\n",
      "Fold: 2, logloss: 0.6675453716584043\n",
      "Fold: 3, logloss: 0.7413506014411027\n"
     ]
    },
    {
     "name": "stderr",
     "output_type": "stream",
     "text": [
      "\u001b[32m[I 2023-03-30 22:11:33,551]\u001b[0m Trial 25 finished with value: 0.689240356557752 and parameters: {'n_estimators': 78, 'max_depth': 21}. Best is trial 2 with value: 0.6742602505132146.\u001b[0m\n"
     ]
    },
    {
     "name": "stdout",
     "output_type": "stream",
     "text": [
      "Fold: 4, logloss: 0.7251317260230264\n",
      "Fold: 0, logloss: 0.6168309188358391\n",
      "Fold: 1, logloss: 0.7844115720712957\n",
      "Fold: 2, logloss: 0.8604582180474073\n"
     ]
    },
    {
     "name": "stderr",
     "output_type": "stream",
     "text": [
      "\u001b[32m[I 2023-03-30 22:11:34,236]\u001b[0m Trial 26 finished with value: 0.7561440979305534 and parameters: {'n_estimators': 47, 'max_depth': 31}. Best is trial 2 with value: 0.6742602505132146.\u001b[0m\n"
     ]
    },
    {
     "name": "stdout",
     "output_type": "stream",
     "text": [
      "Fold: 3, logloss: 0.7758236723849331\n",
      "Fold: 4, logloss: 0.7431961083132917\n",
      "Fold: 0, logloss: 0.6507458263924204\n",
      "Fold: 1, logloss: 0.674855068218239\n",
      "Fold: 2, logloss: 0.66305918217654\n",
      "Fold: 3, logloss: 0.7125602487873394\n"
     ]
    },
    {
     "name": "stderr",
     "output_type": "stream",
     "text": [
      "\u001b[32m[I 2023-03-30 22:11:34,908]\u001b[0m Trial 27 finished with value: 0.6780746929804327 and parameters: {'n_estimators': 84, 'max_depth': 10}. Best is trial 2 with value: 0.6742602505132146.\u001b[0m\n"
     ]
    },
    {
     "name": "stdout",
     "output_type": "stream",
     "text": [
      "Fold: 4, logloss: 0.6891531393276241\n",
      "Fold: 0, logloss: 0.6334503504438781\n",
      "Fold: 1, logloss: 0.8853163769723198\n",
      "Fold: 2, logloss: 0.7098915711714825\n",
      "Fold: 3, logloss: 0.7581845467481555\n"
     ]
    },
    {
     "name": "stderr",
     "output_type": "stream",
     "text": [
      "\u001b[32m[I 2023-03-30 22:11:36,063]\u001b[0m Trial 28 finished with value: 0.7458809058033808 and parameters: {'n_estimators': 92, 'max_depth': 31}. Best is trial 2 with value: 0.6742602505132146.\u001b[0m\n"
     ]
    },
    {
     "name": "stdout",
     "output_type": "stream",
     "text": [
      "Fold: 4, logloss: 0.7425616836810685\n",
      "Fold: 0, logloss: 0.6255415590731161\n",
      "Fold: 1, logloss: 1.2138698748837482\n",
      "Fold: 2, logloss: 0.8529853015192349\n",
      "Fold: 3, logloss: 0.7913816199047744\n"
     ]
    },
    {
     "name": "stderr",
     "output_type": "stream",
     "text": [
      "\u001b[32m[I 2023-03-30 22:11:37,080]\u001b[0m Trial 29 finished with value: 0.8495802148189886 and parameters: {'n_estimators': 74, 'max_depth': 82}. Best is trial 2 with value: 0.6742602505132146.\u001b[0m\n"
     ]
    },
    {
     "name": "stdout",
     "output_type": "stream",
     "text": [
      "Fold: 4, logloss: 0.7641227187140694\n",
      "best trial:\n",
      "[0.6742602505132146]\n",
      "Best parameters: {'n_estimators': 28, 'max_depth': 11}\n"
     ]
    }
   ],
   "source": [
    "# For rdkfp\n",
    "\n",
    "data_type = 'rdkfp'\n",
    "processed_train_path = './data/oral_avail_fingerprints/data_oral_avail_train_rdkfp.csv'\n",
    "\n",
    "def objective(trial):\n",
    "    params = {\n",
    "        'n_estimators': trial.suggest_int('n_estimators', 10, 100),\n",
    "        'max_depth': trial.suggest_int('max_depth', 10, 100)\n",
    "    }\n",
    "\n",
    "    loss = run_tuning(data_type, processed_train_path, params)\n",
    "    return loss\n",
    "study = optuna.create_study(direction='minimize')\n",
    "study.optimize(objective, n_trials=30)\n",
    "print(f'best trial:')\n",
    "trial_ = study.best_trial\n",
    "print(trial_.values)\n",
    "print(f'Best parameters: {trial_.params}')"
   ]
  },
  {
   "attachments": {},
   "cell_type": "markdown",
   "metadata": {},
   "source": [
    "## Train/validate/test\n",
    "1. Hyperparameters were saved in config.py\n",
    "2. Models were train/validate/test using 5-fold CV method and repeated for 5 times"
   ]
  },
  {
   "cell_type": "code",
   "execution_count": 35,
   "metadata": {},
   "outputs": [],
   "source": [
    "def train_test_rfc_model(params, n_repetitions, X_train, X_test, y_train, y_test):\n",
    "    rf_model = RandomForestClassifier(n_estimators=params['n_estimators'], max_depth=params['max_depth'])\n",
    "    kf = KFold(n_splits=N_SPLITS)\n",
    "    logloss_total = []\n",
    "    acc_total  = []\n",
    "    f1_total = []\n",
    "    roc_auc_total = []\n",
    "    for repeat in range(n_repetitions):\n",
    "        for fold_no, (train_idx, valid_idx) in enumerate(kf.split(X_train, y_train)):\n",
    "            seed_everything(SEED_NO)\n",
    "            rf_model.fit(X_train.iloc[train_idx, :], y_train.iloc[train_idx].to_numpy().reshape(-1))\n",
    "            y_pred = rf_model.predict(X_test)\n",
    "            y_probs = rf_model.predict_proba(X_test)\n",
    "\n",
    "            logloss= log_loss(y_test, y_probs)\n",
    "            logloss_total.append(logloss)\n",
    "\n",
    "            acc = accuracy_score(y_test, y_pred)\n",
    "            acc_total.append(acc)\n",
    "\n",
    "            f1 = f1_score(y_test,y_pred)\n",
    "            f1_total.append(f1)\n",
    "\n",
    "            roc_auc = roc_auc_score(y_test, y_probs[:,1])\n",
    "            roc_auc_total.append(roc_auc)\n",
    "\n",
    "    return mean(logloss_total), std(logloss_total), mean(acc_total), std(acc_total), mean(f1_total), std(f1_total), mean(roc_auc_total), std(roc_auc_total)"
   ]
  },
  {
   "cell_type": "code",
   "execution_count": 38,
   "metadata": {},
   "outputs": [
    {
     "name": "stdout",
     "output_type": "stream",
     "text": [
      "logloss: 0.556±0.008\n",
      "acc: 0.724±0.012\n",
      "f1: 0.769±0.011\n",
      "roc_auc: 0.790±0.010\n"
     ]
    }
   ],
   "source": [
    "# For mol desc\n",
    "\n",
    "df = pd.read_csv('./data/oral_avail_mol_desc/data_oral_avail_train_mol_desc.csv')\n",
    "df_test = pd.read_csv('./data/oral_avail_mol_desc/data_oral_avail_test_mol_desc.csv')\n",
    "x_train = df.iloc[:, :45]\n",
    "y_train = df['label_cutoff_50%']\n",
    "\n",
    "x_test = df_test.iloc[:, :45]\n",
    "y_test = df_test['label_cutoff_50%']\n",
    "params = best_params_MD\n",
    "n_repetitions = 5\n",
    "\n",
    "ll_mean, ll_std, acc_mean, acc_std, f1_mean, f1_std, roc_auc_mean, roc_auc_std = train_test_rfc_model(params,n_repetitions, x_train, x_test, y_train, y_test)\n",
    "print(f'logloss: {ll_mean:.3f}±{ll_std:.3f}')\n",
    "print(f'acc: {acc_mean:.3f}±{acc_std:.3f}')\n",
    "print(f'f1: {f1_mean:.3f}±{f1_std:.3f}')\n",
    "print(f'roc_auc: {roc_auc_mean:.3f}±{roc_auc_std:.3f}')\n"
   ]
  },
  {
   "cell_type": "code",
   "execution_count": 40,
   "metadata": {},
   "outputs": [
    {
     "name": "stdout",
     "output_type": "stream",
     "text": [
      "logloss: 0.592±0.015\n",
      "acc: 0.688±0.021\n",
      "f1: 0.738±0.027\n",
      "roc_auc: 0.749±0.019\n"
     ]
    }
   ],
   "source": [
    "# For morgan\n",
    "\n",
    "df = pd.read_csv('./data/oral_avail_fingerprints/data_oral_avail_train_morgan.csv')\n",
    "df_test = pd.read_csv('./data/oral_avail_fingerprints/data_oral_avail_test_morgan.csv')\n",
    "x_train = df.iloc[:, :1024]\n",
    "y_train = df['label_cutoff_50%']\n",
    "\n",
    "x_test = df_test.iloc[:, :1024]\n",
    "y_test = df_test['label_cutoff_50%']\n",
    "params = best_params_morgan\n",
    "n_repetitions = 5\n",
    "\n",
    "ll_mean, ll_std, acc_mean, acc_std, f1_mean, f1_std, roc_auc_mean, roc_auc_std = train_test_rfc_model(params,n_repetitions, x_train, x_test, y_train, y_test)\n",
    "print(f'logloss: {ll_mean:.3f}±{ll_std:.3f}')\n",
    "print(f'acc: {acc_mean:.3f}±{acc_std:.3f}')\n",
    "print(f'f1: {f1_mean:.3f}±{f1_std:.3f}')\n",
    "print(f'roc_auc: {roc_auc_mean:.3f}±{roc_auc_std:.3f}')\n"
   ]
  },
  {
   "cell_type": "code",
   "execution_count": 41,
   "metadata": {},
   "outputs": [
    {
     "name": "stdout",
     "output_type": "stream",
     "text": [
      "logloss: 0.631±0.019\n",
      "acc: 0.665±0.009\n",
      "f1: 0.724±0.011\n",
      "roc_auc: 0.715±0.008\n"
     ]
    }
   ],
   "source": [
    "# For rdkfp\n",
    "\n",
    "df = pd.read_csv('./data/oral_avail_fingerprints/data_oral_avail_train_rdkfp.csv')\n",
    "df_test = pd.read_csv('./data/oral_avail_fingerprints/data_oral_avail_test_rdkfp.csv')\n",
    "x_train = df.iloc[:, :1024]\n",
    "y_train = df['label_cutoff_50%']\n",
    "\n",
    "x_test = df_test.iloc[:, :1024]\n",
    "y_test = df_test['label_cutoff_50%']\n",
    "params = best_params_rdkfp\n",
    "n_repetitions = 5\n",
    "\n",
    "ll_mean, ll_std, acc_mean, acc_std, f1_mean, f1_std, roc_auc_mean, roc_auc_std = train_test_rfc_model(params,n_repetitions, x_train, x_test, y_train, y_test)\n",
    "print(f'logloss: {ll_mean:.3f}±{ll_std:.3f}')\n",
    "print(f'acc: {acc_mean:.3f}±{acc_std:.3f}')\n",
    "print(f'f1: {f1_mean:.3f}±{f1_std:.3f}')\n",
    "print(f'roc_auc: {roc_auc_mean:.3f}±{roc_auc_std:.3f}')\n"
   ]
  },
  {
   "cell_type": "code",
   "execution_count": 42,
   "metadata": {},
   "outputs": [
    {
     "name": "stdout",
     "output_type": "stream",
     "text": [
      "logloss: 0.584±0.004\n",
      "acc: 0.688±0.018\n",
      "f1: 0.741±0.016\n",
      "roc_auc: 0.750±0.007\n"
     ]
    }
   ],
   "source": [
    "# For maccskeys\n",
    "\n",
    "df = pd.read_csv('./data/oral_avail_fingerprints/data_oral_avail_train_maccskeys.csv')\n",
    "df_test = pd.read_csv('./data/oral_avail_fingerprints/data_oral_avail_test_maccskeys.csv')\n",
    "x_train = df.iloc[:, :167]\n",
    "y_train = df['label_cutoff_50%']\n",
    "\n",
    "x_test = df_test.iloc[:, :167]\n",
    "y_test = df_test['label_cutoff_50%']\n",
    "params = best_params_maccskeys\n",
    "n_repetitions = 5\n",
    "\n",
    "ll_mean, ll_std, acc_mean, acc_std, f1_mean, f1_std, roc_auc_mean, roc_auc_std = train_test_rfc_model(params,n_repetitions, x_train, x_test, y_train, y_test)\n",
    "print(f'logloss: {ll_mean:.3f}±{ll_std:.3f}')\n",
    "print(f'acc: {acc_mean:.3f}±{acc_std:.3f}')\n",
    "print(f'f1: {f1_mean:.3f}±{f1_std:.3f}')\n",
    "print(f'roc_auc: {roc_auc_mean:.3f}±{roc_auc_std:.3f}')\n"
   ]
  },
  {
   "cell_type": "code",
   "execution_count": null,
   "metadata": {},
   "outputs": [],
   "source": []
  }
 ],
 "metadata": {
  "kernelspec": {
   "display_name": "fyp2",
   "language": "python",
   "name": "python3"
  },
  "language_info": {
   "codemirror_mode": {
    "name": "ipython",
    "version": 3
   },
   "file_extension": ".py",
   "mimetype": "text/x-python",
   "name": "python",
   "nbconvert_exporter": "python",
   "pygments_lexer": "ipython3",
   "version": "3.9.15"
  },
  "orig_nbformat": 4,
  "vscode": {
   "interpreter": {
    "hash": "554850cc8d471f942d9f232f7a4e73f84313a3943bd2e1621220eed843f41c7c"
   }
  }
 },
 "nbformat": 4,
 "nbformat_minor": 2
}
